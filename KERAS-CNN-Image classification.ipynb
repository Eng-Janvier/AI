{
 "cells": [
  {
   "cell_type": "markdown",
   "metadata": {},
   "source": [
    "# Build a deep learning model to classify images using Keras and TensorFlow 2.0"
   ]
  },
  {
   "cell_type": "markdown",
   "metadata": {},
   "source": [
    "Importing Necessary Packages"
   ]
  },
  {
   "cell_type": "markdown",
   "metadata": {},
   "source": [
    "If you don't have keras or tensorflow installed, Run the following command to install keras and tensorflow (Here, we’ve also installed pillow to facilitate the loading of images later.)"
   ]
  },
  {
   "cell_type": "code",
   "execution_count": 259,
   "metadata": {},
   "outputs": [],
   "source": [
    "#conda install tensorflow keras pillow"
   ]
  },
  {
   "cell_type": "markdown",
   "metadata": {},
   "source": [
    "Now import the following packages:\n",
    "    1) Sequential for initializing the artificial neural network\n",
    "    2) Convolution2D for implementing the convolution network that works with images\n",
    "    3) MaxPooling2D for adding the pooling layers\n",
    "    4) Flatten for converting pooled feature maps into one column that will be fed to the fully connected layer\n",
    "    5) Dense that will add a fully connected layer to the neural network"
   ]
  },
  {
   "cell_type": "code",
   "execution_count": 260,
   "metadata": {},
   "outputs": [],
   "source": [
    "from keras.models import Sequential\n",
    "from keras.layers import Conv2D\n",
    "from keras.layers import MaxPooling2D\n",
    "from keras.layers import Flatten, Dropout\n",
    "from keras.layers import Dense"
   ]
  },
  {
   "cell_type": "markdown",
   "metadata": {},
   "source": [
    "Initializing the Neural Network"
   ]
  },
  {
   "cell_type": "markdown",
   "metadata": {},
   "source": [
    "we’ll use the Sequential package to initialize a linear stack of layers."
   ]
  },
  {
   "cell_type": "markdown",
   "metadata": {},
   "source": [
    "We now have an instance of the neural network, but it doesn’t do anything by itself. We’ll need to apply a function to the dataset, which means the network needs a convolution layer. We’ll add this layer in the next step."
   ]
  },
  {
   "cell_type": "code",
   "execution_count": 261,
   "metadata": {},
   "outputs": [],
   "source": [
    "classifier = Sequential()"
   ]
  },
  {
   "cell_type": "markdown",
   "metadata": {},
   "source": [
    "Adding a Convolution Layer"
   ]
  },
  {
   "cell_type": "markdown",
   "metadata": {},
   "source": [
    "The layer is added by calling the add function on the classifier and passing the required parameters. "
   ]
  },
  {
   "cell_type": "markdown",
   "metadata": {},
   "source": [
    "The first parameter (filters) is the number of output filters in the convolution. They’re also referred to as feature detectors."
   ]
  },
  {
   "cell_type": "markdown",
   "metadata": {},
   "source": [
    "The second and third parameters represent the height and width of the 2D convolution window. input_shape is the shape of the input image. Black and white images are converted to 2D arrays, while colored images are converted to 3D arrays."
   ]
  },
  {
   "cell_type": "markdown",
   "metadata": {},
   "source": [
    "A convolution is a mathematical computation involving two functions aimed at finding out how the two functions affect each other."
   ]
  },
  {
   "cell_type": "markdown",
   "metadata": {},
   "source": [
    "This process involves three key items; the input image, the feature detector, and the feature map. A feature map is obtained by multiplying the matrix representation of the input image element-wise with the feature detector. This process is aimed at reducing the size of the image, and it retains the features that are important for classifying input images and discards the features that are not. Each feature map detects the location of the image’s unique features."
   ]
  },
  {
   "cell_type": "markdown",
   "metadata": {},
   "source": [
    "The final parameter we’ll pass is the activation function. Since image classification is a non-linear task, we’ll use the rectifier function. This makes sure that we don’t get negative values during the operation."
   ]
  },
  {
   "cell_type": "code",
   "execution_count": 262,
   "metadata": {},
   "outputs": [],
   "source": [
    "classifier.add(Conv2D(32, (3, 3), input_shape = (256, 256, 3), activation='relu'))"
   ]
  },
  {
   "cell_type": "markdown",
   "metadata": {},
   "source": [
    "We now have a CNN that will detect features in the images dataset. In the next step, we’ll reduce the size of these features using pooling. This will help in reducing the computation time of the deep learning model."
   ]
  },
  {
   "cell_type": "markdown",
   "metadata": {},
   "source": [
    "Pooling to Reduce the Size of the Feature Map"
   ]
  },
  {
   "cell_type": "markdown",
   "metadata": {},
   "source": [
    "We’ll now add a pooling layer to the network in order to reduce the size of the feature maps. We use a 2x2 pool size for max pooling. This reduces the size of the images while retaining important information."
   ]
  },
  {
   "cell_type": "markdown",
   "metadata": {},
   "source": [
    "Max pooling places a 2x2 matrix on the feature map and picks the largest value in that box. The 2x2 matrix moves across the entire feature map and picks the largest value in each move. The obtained values form a matrix known as a pooled feature map."
   ]
  },
  {
   "cell_type": "markdown",
   "metadata": {},
   "source": [
    "This process also reduces overfitting because the CNN only receives the features that are important for the classification task."
   ]
  },
  {
   "cell_type": "code",
   "execution_count": 263,
   "metadata": {},
   "outputs": [],
   "source": [
    "classifier.add(MaxPooling2D(pool_size=(2,2)))"
   ]
  },
  {
   "cell_type": "markdown",
   "metadata": {},
   "source": [
    "Flattening the Feature Maps"
   ]
  },
  {
   "cell_type": "markdown",
   "metadata": {},
   "source": [
    "Time to flatten all the feature maps into a single vector. This vector is then passed to the CNN for processing. This is achieved by calling the Flatten() function on the classifier."
   ]
  },
  {
   "cell_type": "code",
   "execution_count": 264,
   "metadata": {},
   "outputs": [],
   "source": [
    "classifier.add(Flatten())"
   ]
  },
  {
   "cell_type": "markdown",
   "metadata": {},
   "source": [
    "Adding Layers to the Neural Network"
   ]
  },
  {
   "cell_type": "markdown",
   "metadata": {},
   "source": [
    "The network computes the predictions as well as the errors in the prediction process. The network improves its predictions via backpropagation of the errors. The final result is a number between zero and one. This number represents the probability of each class."
   ]
  },
  {
   "cell_type": "code",
   "execution_count": 265,
   "metadata": {},
   "outputs": [],
   "source": [
    "classifier.add(Dense(units = 128, activation='relu'))"
   ]
  },
  {
   "cell_type": "markdown",
   "metadata": {},
   "source": [
    "We’re now ready to add the output layer. In this layer, we’ll use the sigmoid activation function since we expect a binary outcome. If we expected more than two possible outcomes, we’d have used the softmax function."
   ]
  },
  {
   "cell_type": "code",
   "execution_count": 266,
   "metadata": {},
   "outputs": [],
   "source": [
    "classifier.add(Dense(units=1, activation='sigmoid'))"
   ]
  },
  {
   "cell_type": "markdown",
   "metadata": {},
   "source": [
    "# Build a complete¶"
   ]
  },
  {
   "cell_type": "code",
   "execution_count": 267,
   "metadata": {},
   "outputs": [],
   "source": [
    "model = Sequential()\n",
    "model.add(Conv2D(32, (3, 3), input_shape = (256, 256, 3), activation='relu'))\n",
    "model.add(MaxPooling2D(pool_size=(2,2)))\n",
    "model.add(Conv2D(64, (3, 3), activation='relu'))\n",
    "model.add(MaxPooling2D(pool_size=(2,2)))\n",
    "model.add(Conv2D(128, (3, 3), activation='relu'))\n",
    "model.add(MaxPooling2D(pool_size=(2,2)))\n",
    "model.add(Conv2D(128, (3, 3), activation='relu'))\n",
    "model.add(MaxPooling2D(pool_size=(2,2)))\n",
    "model.add(Conv2D(256, (3, 3), activation='relu'))\n",
    "model.add(MaxPooling2D(pool_size=(2,2)))\n",
    "model.add(Dropout(0.25))\n",
    "model.add(Conv2D(512, (3, 3), activation='relu'))\n",
    "model.add(MaxPooling2D(pool_size=(2,2)))\n",
    "model.add(Dropout(0.25))\n",
    "model.add(Flatten())\n",
    "model.add(Dense(units = 128, activation='relu'))\n",
    "model.add(Dense(units=1, activation='sigmoid'))"
   ]
  },
  {
   "cell_type": "code",
   "execution_count": 268,
   "metadata": {},
   "outputs": [
    {
     "name": "stdout",
     "output_type": "stream",
     "text": [
      "Model: \"sequential_13\"\n",
      "_________________________________________________________________\n",
      "Layer (type)                 Output Shape              Param #   \n",
      "=================================================================\n",
      "conv2d_67 (Conv2D)           (None, 254, 254, 32)      896       \n",
      "_________________________________________________________________\n",
      "max_pooling2d_67 (MaxPooling (None, 127, 127, 32)      0         \n",
      "_________________________________________________________________\n",
      "conv2d_68 (Conv2D)           (None, 125, 125, 64)      18496     \n",
      "_________________________________________________________________\n",
      "max_pooling2d_68 (MaxPooling (None, 62, 62, 64)        0         \n",
      "_________________________________________________________________\n",
      "conv2d_69 (Conv2D)           (None, 60, 60, 128)       73856     \n",
      "_________________________________________________________________\n",
      "max_pooling2d_69 (MaxPooling (None, 30, 30, 128)       0         \n",
      "_________________________________________________________________\n",
      "conv2d_70 (Conv2D)           (None, 28, 28, 128)       147584    \n",
      "_________________________________________________________________\n",
      "max_pooling2d_70 (MaxPooling (None, 14, 14, 128)       0         \n",
      "_________________________________________________________________\n",
      "conv2d_71 (Conv2D)           (None, 12, 12, 256)       295168    \n",
      "_________________________________________________________________\n",
      "max_pooling2d_71 (MaxPooling (None, 6, 6, 256)         0         \n",
      "_________________________________________________________________\n",
      "dropout_6 (Dropout)          (None, 6, 6, 256)         0         \n",
      "_________________________________________________________________\n",
      "conv2d_72 (Conv2D)           (None, 4, 4, 512)         1180160   \n",
      "_________________________________________________________________\n",
      "max_pooling2d_72 (MaxPooling (None, 2, 2, 512)         0         \n",
      "_________________________________________________________________\n",
      "dropout_7 (Dropout)          (None, 2, 2, 512)         0         \n",
      "_________________________________________________________________\n",
      "flatten_9 (Flatten)          (None, 2048)              0         \n",
      "_________________________________________________________________\n",
      "dense_18 (Dense)             (None, 128)               262272    \n",
      "_________________________________________________________________\n",
      "dense_19 (Dense)             (None, 1)                 129       \n",
      "=================================================================\n",
      "Total params: 1,978,561\n",
      "Trainable params: 1,978,561\n",
      "Non-trainable params: 0\n",
      "_________________________________________________________________\n"
     ]
    }
   ],
   "source": [
    "model.summary()"
   ]
  },
  {
   "cell_type": "markdown",
   "metadata": {},
   "source": [
    "we have to ensure that we’re reducing the errors that occur during the training process. This maximizes the chances of getting good results from the model. Therefore, in the next step, we’ll implement a strategy that will reduce errors during training."
   ]
  },
  {
   "cell_type": "markdown",
   "metadata": {},
   "source": [
    "Compiling the CNN is done using the compile function. The function expects three arguments:"
   ]
  },
  {
   "cell_type": "markdown",
   "metadata": {},
   "source": [
    "1. the optimizer,\n",
    "2. the loss function,\n",
    "3. the performance metrics"
   ]
  },
  {
   "cell_type": "markdown",
   "metadata": {},
   "source": [
    "We’ll apply gradient descent as an optimizer for the model. In this case, the binary_crossentropy loss function is most appropriate since this is a binary classification problem."
   ]
  },
  {
   "cell_type": "markdown",
   "metadata": {},
   "source": [
    "Gradient descent is an optimization strategy that works to reduce errors during the training process in order to get to the point where the error is least. This is achieved by finding the point where the cost function is at its minimum. This is known as the local minimum and is found by differentiating the slope at a specific point and descending into the minimum of the cost function. Here, we’ll use the popular Adam optimizer."
   ]
  },
  {
   "cell_type": "code",
   "execution_count": 269,
   "metadata": {},
   "outputs": [],
   "source": [
    "model.compile(optimizer='adam', loss='binary_crossentropy',metrics=['accuracy'])\n"
   ]
  },
  {
   "cell_type": "markdown",
   "metadata": {},
   "source": [
    "Fitting the CNN"
   ]
  },
  {
   "cell_type": "markdown",
   "metadata": {},
   "source": [
    "Before we can fit the CNN, we’ll pre-process the images using Keras in order to reduce overfitting. This process is known as image augmentation. We’ll use the ImageDataGenerator function for this purpose."
   ]
  },
  {
   "cell_type": "code",
   "execution_count": 270,
   "metadata": {},
   "outputs": [],
   "source": [
    "from keras.preprocessing.image import ImageDataGenerator"
   ]
  },
  {
   "cell_type": "markdown",
   "metadata": {},
   "source": [
    "Next, we’ll create a training set using train_datagen. Use flow_from_directory to obtain the images from your current working directory. Pass in the path as the first parameter and target_size as the second parameter."
   ]
  },
  {
   "cell_type": "code",
   "execution_count": 271,
   "metadata": {},
   "outputs": [],
   "source": [
    "train_datagen = ImageDataGenerator(rescale=1./255, shear_range=0.2, zoom_range=0.2, horizontal_flip=True)"
   ]
  },
  {
   "cell_type": "code",
   "execution_count": 272,
   "metadata": {},
   "outputs": [],
   "source": [
    "test_datagen = ImageDataGenerator(rescale=1./255)"
   ]
  },
  {
   "cell_type": "code",
   "execution_count": 273,
   "metadata": {},
   "outputs": [],
   "source": [
    "TRAIN_DIR = 'C:/Users/nijas/OneDrive/Desktop/GRACE AI/MODEL/train' \n",
    "TEST_DIR = 'C:/Users/nijas/OneDrive/Desktop/GRACE AI/MODEL/test'"
   ]
  },
  {
   "cell_type": "code",
   "execution_count": 274,
   "metadata": {},
   "outputs": [
    {
     "name": "stdout",
     "output_type": "stream",
     "text": [
      "Found 192 images belonging to 2 classes.\n"
     ]
    }
   ],
   "source": [
    "training_set = train_datagen.flow_from_directory('train', target_size=(256, 256), batch_size=16, class_mode='binary')"
   ]
  },
  {
   "cell_type": "code",
   "execution_count": 275,
   "metadata": {},
   "outputs": [
    {
     "name": "stdout",
     "output_type": "stream",
     "text": [
      "Found 96 images belonging to 2 classes.\n"
     ]
    }
   ],
   "source": [
    "test_set = test_datagen.flow_from_directory('test', target_size=(256, 256), batch_size=16, class_mode='binary')"
   ]
  },
  {
   "cell_type": "markdown",
   "metadata": {},
   "source": [
    "Fitting the classifier to the training set is done by calling the\n",
    "fit_generator function on the classifier object. We pass in the training set as the first argument. steps_per_epoch is the number of steps obtained from the generator before one epoch is finished. epochs is the number of iterations used to train the CNN on. validation_steps is the total number of steps to validate before stopping."
   ]
  },
  {
   "cell_type": "code",
   "execution_count": 293,
   "metadata": {},
   "outputs": [
    {
     "name": "stdout",
     "output_type": "stream",
     "text": [
      "Epoch 1/20\n",
      "12/12 [==============================] - 36s 3s/step - loss: 0.6575 - accuracy: 0.5625 - val_loss: 0.6643 - val_accuracy: 0.5104\n",
      "Epoch 2/20\n",
      "12/12 [==============================] - 35s 3s/step - loss: 0.6982 - accuracy: 0.5312 - val_loss: 0.6626 - val_accuracy: 0.5104\n",
      "Epoch 3/20\n",
      "12/12 [==============================] - 36s 3s/step - loss: 0.6791 - accuracy: 0.6094 - val_loss: 0.6400 - val_accuracy: 0.6771\n",
      "Epoch 4/20\n",
      "12/12 [==============================] - 35s 3s/step - loss: 0.6660 - accuracy: 0.6406 - val_loss: 0.5945 - val_accuracy: 0.6667\n",
      "Epoch 5/20\n",
      "12/12 [==============================] - 35s 3s/step - loss: 0.6524 - accuracy: 0.6302 - val_loss: 0.7009 - val_accuracy: 0.5000\n",
      "Epoch 6/20\n",
      "12/12 [==============================] - 35s 3s/step - loss: 0.6646 - accuracy: 0.5625 - val_loss: 0.6774 - val_accuracy: 0.5000\n",
      "Epoch 7/20\n",
      "12/12 [==============================] - 35s 3s/step - loss: 0.6502 - accuracy: 0.5625 - val_loss: 0.6620 - val_accuracy: 0.5000\n",
      "Epoch 8/20\n",
      "12/12 [==============================] - 36s 3s/step - loss: 0.6858 - accuracy: 0.5625 - val_loss: 0.6843 - val_accuracy: 0.5000\n",
      "Epoch 9/20\n",
      "12/12 [==============================] - 36s 3s/step - loss: 0.6887 - accuracy: 0.5521 - val_loss: 0.6909 - val_accuracy: 0.4896\n",
      "Epoch 10/20\n",
      "12/12 [==============================] - 35s 3s/step - loss: 0.6891 - accuracy: 0.5625 - val_loss: 0.6868 - val_accuracy: 0.5000\n",
      "Epoch 11/20\n",
      "12/12 [==============================] - 35s 3s/step - loss: 0.6802 - accuracy: 0.5781 - val_loss: 0.6850 - val_accuracy: 0.5208\n",
      "Epoch 12/20\n",
      "12/12 [==============================] - 35s 3s/step - loss: 0.6952 - accuracy: 0.4688 - val_loss: 0.6899 - val_accuracy: 0.6250\n",
      "Epoch 13/20\n",
      "12/12 [==============================] - 35s 3s/step - loss: 0.6945 - accuracy: 0.5573 - val_loss: 0.6888 - val_accuracy: 0.5208\n",
      "Epoch 14/20\n",
      "12/12 [==============================] - 35s 3s/step - loss: 0.6934 - accuracy: 0.5781 - val_loss: 0.6855 - val_accuracy: 0.5729\n",
      "Epoch 15/20\n",
      "12/12 [==============================] - 35s 3s/step - loss: 0.6789 - accuracy: 0.5833 - val_loss: 0.6764 - val_accuracy: 0.5938\n",
      "Epoch 16/20\n",
      "12/12 [==============================] - 35s 3s/step - loss: 0.6668 - accuracy: 0.5990 - val_loss: 0.6389 - val_accuracy: 0.6562\n",
      "Epoch 17/20\n",
      "12/12 [==============================] - 35s 3s/step - loss: 0.6549 - accuracy: 0.6302 - val_loss: 0.6423 - val_accuracy: 0.6250\n",
      "Epoch 18/20\n",
      "12/12 [==============================] - 35s 3s/step - loss: 0.6853 - accuracy: 0.5990 - val_loss: 0.5996 - val_accuracy: 0.6667\n",
      "Epoch 19/20\n",
      "12/12 [==============================] - 35s 3s/step - loss: 0.6758 - accuracy: 0.5573 - val_loss: 0.6715 - val_accuracy: 0.5104\n",
      "Epoch 20/20\n",
      "12/12 [==============================] - 35s 3s/step - loss: 0.6563 - accuracy: 0.6146 - val_loss: 0.6383 - val_accuracy: 0.6250\n"
     ]
    }
   ],
   "source": [
    "history=model.fit_generator(training_set, steps_per_epoch=192//16, epochs=20, validation_data=test_set, validation_steps=96//16)\n",
    "model.save_weights('first_try.h5')"
   ]
  },
  {
   "cell_type": "markdown",
   "metadata": {},
   "source": [
    "Making a Prediction"
   ]
  },
  {
   "cell_type": "code",
   "execution_count": 295,
   "metadata": {},
   "outputs": [],
   "source": [
    "import numpy as np\n",
    "from keras.preprocessing import image"
   ]
  },
  {
   "cell_type": "code",
   "execution_count": 296,
   "metadata": {},
   "outputs": [],
   "source": [
    "test_image = image.load_img('./test/dog/dog.12392.jpg', target_size=(256, 256))"
   ]
  },
  {
   "cell_type": "code",
   "execution_count": 297,
   "metadata": {},
   "outputs": [
    {
     "data": {
      "text/plain": [
       "(256, 256)"
      ]
     },
     "execution_count": 297,
     "metadata": {},
     "output_type": "execute_result"
    }
   ],
   "source": [
    "test_image.size"
   ]
  },
  {
   "cell_type": "markdown",
   "metadata": {},
   "source": [
    "Since we’re using colored images, we have to transform the test image into a 3D array."
   ]
  },
  {
   "cell_type": "code",
   "execution_count": 298,
   "metadata": {},
   "outputs": [],
   "source": [
    "test_image = image.img_to_array(test_image)"
   ]
  },
  {
   "cell_type": "code",
   "execution_count": 299,
   "metadata": {},
   "outputs": [
    {
     "data": {
      "text/plain": [
       "(256, 256, 3)"
      ]
     },
     "execution_count": 299,
     "metadata": {},
     "output_type": "execute_result"
    }
   ],
   "source": [
    "test_image.shape"
   ]
  },
  {
   "cell_type": "markdown",
   "metadata": {},
   "source": [
    "The image is now in three dimensions. As you probably noticed earlier, we passed in the images in batches. In this case, we’ll have one batch of one input image. The expand_dims method from NumPy will enable us to add this fourth dimension."
   ]
  },
  {
   "cell_type": "markdown",
   "metadata": {},
   "source": [
    "The first argument we pass to it is the test image, and the second is the position of the dimension that we want to add."
   ]
  },
  {
   "cell_type": "code",
   "execution_count": 300,
   "metadata": {},
   "outputs": [],
   "source": [
    "test_image = np.expand_dims(test_image, axis=0)"
   ]
  },
  {
   "cell_type": "code",
   "execution_count": 301,
   "metadata": {},
   "outputs": [
    {
     "data": {
      "text/plain": [
       "(1, 256, 256, 3)"
      ]
     },
     "execution_count": 301,
     "metadata": {},
     "output_type": "execute_result"
    }
   ],
   "source": [
    "test_image.shape"
   ]
  },
  {
   "cell_type": "code",
   "execution_count": 302,
   "metadata": {},
   "outputs": [],
   "source": [
    "i = 0\n",
    "for batch in train_datagen.flow(test_image, batch_size=1,\n",
    "                          save_to_dir='preview', save_prefix='dog', save_format='jpeg'):\n",
    "    i += 1\n",
    "    if i > 20:\n",
    "        break  # "
   ]
  },
  {
   "cell_type": "markdown",
   "metadata": {},
   "source": [
    "Now use the predict method to predict which class the image belongs to:"
   ]
  },
  {
   "cell_type": "code",
   "execution_count": 303,
   "metadata": {},
   "outputs": [],
   "source": [
    "prediction = model.predict_generator(test_image,1)"
   ]
  },
  {
   "cell_type": "code",
   "execution_count": 304,
   "metadata": {},
   "outputs": [
    {
     "data": {
      "text/plain": [
       "array([[0.00041685]], dtype=float32)"
      ]
     },
     "execution_count": 304,
     "metadata": {},
     "output_type": "execute_result"
    }
   ],
   "source": [
    "prediction"
   ]
  },
  {
   "cell_type": "markdown",
   "metadata": {},
   "source": [
    "The class_indices attribute from the training set will help us in getting the class labels."
   ]
  },
  {
   "cell_type": "code",
   "execution_count": 305,
   "metadata": {},
   "outputs": [
    {
     "data": {
      "text/plain": [
       "{'cat': 0, 'dog': 1}"
      ]
     },
     "execution_count": 305,
     "metadata": {},
     "output_type": "execute_result"
    }
   ],
   "source": [
    "training_set.class_indices"
   ]
  },
  {
   "cell_type": "code",
   "execution_count": 306,
   "metadata": {},
   "outputs": [
    {
     "name": "stdout",
     "output_type": "stream",
     "text": [
      "Found 192 images belonging to 2 classes.\n",
      "WARNING:tensorflow:Your input ran out of data; interrupting training. Make sure that your dataset or generator can generate at least `steps_per_epoch * epochs` batches (in this case, 192 batches). You may need to use the repeat() function when building your dataset.\n",
      "Found 96 images belonging to 2 classes.\n",
      "WARNING:tensorflow:Your input ran out of data; interrupting training. Make sure that your dataset or generator can generate at least `steps_per_epoch * epochs` batches (in this case, 96 batches). You may need to use the repeat() function when building your dataset.\n"
     ]
    }
   ],
   "source": [
    "batch_size = 16\n",
    "\n",
    "generator = train_datagen.flow_from_directory(\n",
    "        'train',\n",
    "        target_size=(256, 256),\n",
    "        batch_size=batch_size,\n",
    "        class_mode=None,  # this means our generator will only yield batches of data, no labels\n",
    "        shuffle=False)  # our data will be in order, so all first 1000 images will be cats, then 1000 dogs\n",
    "# the predict_generator method returns the output of a model, given\n",
    "# a generator that yields batches of numpy data\n",
    "bottleneck_features_train = model.predict_generator(generator, 192)\n",
    "# save the output as a Numpy array\n",
    "#np.save(open('bottleneck_features_train.npy', 'w'), bottleneck_features_train)\n",
    "\n",
    "generator = train_datagen.flow_from_directory(\n",
    "        'test',\n",
    "        target_size=(256, 256),\n",
    "        batch_size=batch_size,\n",
    "        class_mode=None,\n",
    "        shuffle=False)\n",
    "bottleneck_features_validation = model.predict_generator(generator, 96)\n",
    "#np.save(open('bottleneck_features_validation.npy', 'w'), bottleneck_features_validation)"
   ]
  },
  {
   "cell_type": "code",
   "execution_count": 307,
   "metadata": {},
   "outputs": [
    {
     "data": {
      "text/plain": [
       "array([[0.451941  ],\n",
       "       [0.43415135],\n",
       "       [0.45393682],\n",
       "       [0.46123078],\n",
       "       [0.47036746],\n",
       "       [0.46612537],\n",
       "       [0.45890042],\n",
       "       [0.46497568],\n",
       "       [0.3495946 ],\n",
       "       [0.43711263],\n",
       "       [0.43089852],\n",
       "       [0.5131676 ],\n",
       "       [0.46368814],\n",
       "       [0.46179134],\n",
       "       [0.26086587],\n",
       "       [0.4054264 ],\n",
       "       [0.45190084],\n",
       "       [0.41221625],\n",
       "       [0.49356937],\n",
       "       [0.46441185],\n",
       "       [0.40987942],\n",
       "       [0.03634283],\n",
       "       [0.47511348],\n",
       "       [0.48232478],\n",
       "       [0.45984027],\n",
       "       [0.39766744],\n",
       "       [0.41252884],\n",
       "       [0.2134673 ],\n",
       "       [0.45639798],\n",
       "       [0.45020047],\n",
       "       [0.43069726],\n",
       "       [0.43034387],\n",
       "       [0.5233224 ],\n",
       "       [0.4298329 ],\n",
       "       [0.42396036],\n",
       "       [0.13116816],\n",
       "       [0.47229895],\n",
       "       [0.39001137],\n",
       "       [0.46601453],\n",
       "       [0.44348556],\n",
       "       [0.45276955],\n",
       "       [0.44838566],\n",
       "       [0.44054797],\n",
       "       [0.47328728],\n",
       "       [0.48193422],\n",
       "       [0.4637719 ],\n",
       "       [0.21950755],\n",
       "       [0.07734159],\n",
       "       [0.55060756],\n",
       "       [0.41120934],\n",
       "       [0.4539902 ],\n",
       "       [0.48582906],\n",
       "       [0.46840414],\n",
       "       [0.48492354],\n",
       "       [0.4711229 ],\n",
       "       [0.38047644],\n",
       "       [0.4587132 ],\n",
       "       [0.47849345],\n",
       "       [0.49613035],\n",
       "       [0.5457934 ],\n",
       "       [0.454337  ],\n",
       "       [0.38256195],\n",
       "       [0.45724383],\n",
       "       [0.5073739 ],\n",
       "       [0.4930479 ],\n",
       "       [0.4958363 ],\n",
       "       [0.5330979 ],\n",
       "       [0.3924365 ],\n",
       "       [0.36464036],\n",
       "       [0.473913  ],\n",
       "       [0.4467242 ],\n",
       "       [0.597674  ],\n",
       "       [0.50451237],\n",
       "       [0.47812545],\n",
       "       [0.41023207],\n",
       "       [0.5060007 ],\n",
       "       [0.48605907],\n",
       "       [0.45625594],\n",
       "       [0.46131748],\n",
       "       [0.4911096 ],\n",
       "       [0.6713599 ],\n",
       "       [0.49966168],\n",
       "       [0.4704127 ],\n",
       "       [0.4281687 ],\n",
       "       [0.4533509 ],\n",
       "       [0.5467228 ],\n",
       "       [0.5163991 ],\n",
       "       [0.31810987],\n",
       "       [0.5275217 ],\n",
       "       [0.4884408 ],\n",
       "       [0.4617698 ],\n",
       "       [0.4621526 ],\n",
       "       [0.5236026 ],\n",
       "       [0.46525815],\n",
       "       [0.5158718 ],\n",
       "       [0.3508929 ]], dtype=float32)"
      ]
     },
     "execution_count": 307,
     "metadata": {},
     "output_type": "execute_result"
    }
   ],
   "source": [
    "bottleneck_features_validation"
   ]
  },
  {
   "cell_type": "code",
   "execution_count": 308,
   "metadata": {},
   "outputs": [
    {
     "data": {
      "text/plain": [
       "array([[0.22018561],\n",
       "       [0.44957733],\n",
       "       [0.4562119 ],\n",
       "       [0.44627723],\n",
       "       [0.42751324],\n",
       "       [0.45491025],\n",
       "       [0.4606865 ],\n",
       "       [0.46941447],\n",
       "       [0.4607754 ],\n",
       "       [0.4659432 ],\n",
       "       [0.4640485 ],\n",
       "       [0.29529282],\n",
       "       [0.38782525],\n",
       "       [0.40178758],\n",
       "       [0.42387483],\n",
       "       [0.53034765],\n",
       "       [0.458265  ],\n",
       "       [0.45763636],\n",
       "       [0.18334752],\n",
       "       [0.42610508],\n",
       "       [0.44645962],\n",
       "       [0.47046182],\n",
       "       [0.4783492 ],\n",
       "       [0.4611588 ],\n",
       "       [0.4283178 ],\n",
       "       [0.47000813],\n",
       "       [0.48434666],\n",
       "       [0.43727672],\n",
       "       [0.45771784],\n",
       "       [0.47300023],\n",
       "       [0.2754709 ],\n",
       "       [0.4585419 ],\n",
       "       [0.4737069 ],\n",
       "       [0.44388768],\n",
       "       [0.5157914 ],\n",
       "       [0.45756498],\n",
       "       [0.50922996],\n",
       "       [0.3261057 ],\n",
       "       [0.37591913],\n",
       "       [0.5569743 ],\n",
       "       [0.5128435 ],\n",
       "       [0.46982056],\n",
       "       [0.46889332],\n",
       "       [0.4619732 ],\n",
       "       [0.4729498 ],\n",
       "       [0.4882582 ],\n",
       "       [0.471718  ],\n",
       "       [0.32775682],\n",
       "       [0.26326787],\n",
       "       [0.44748497],\n",
       "       [0.42538622],\n",
       "       [0.31875744],\n",
       "       [0.46677   ],\n",
       "       [0.16815624],\n",
       "       [0.40836203],\n",
       "       [0.47600925],\n",
       "       [0.468647  ],\n",
       "       [0.46129894],\n",
       "       [0.12992027],\n",
       "       [0.45133993],\n",
       "       [0.48266014],\n",
       "       [0.36858493],\n",
       "       [0.4771792 ],\n",
       "       [0.4282485 ],\n",
       "       [0.45753753],\n",
       "       [0.38468087],\n",
       "       [0.46282008],\n",
       "       [0.46034002],\n",
       "       [0.39700252],\n",
       "       [0.29526773],\n",
       "       [0.47119886],\n",
       "       [0.30817163],\n",
       "       [0.42763308],\n",
       "       [0.46754864],\n",
       "       [0.44139045],\n",
       "       [0.52022415],\n",
       "       [0.4921493 ],\n",
       "       [0.4349371 ],\n",
       "       [0.30198538],\n",
       "       [0.03709349],\n",
       "       [0.51159924],\n",
       "       [0.37639162],\n",
       "       [0.46749362],\n",
       "       [0.377298  ],\n",
       "       [0.43377036],\n",
       "       [0.28119874],\n",
       "       [0.05735621],\n",
       "       [0.45501626],\n",
       "       [0.4171854 ],\n",
       "       [0.44140965],\n",
       "       [0.45863032],\n",
       "       [0.50569165],\n",
       "       [0.38990226],\n",
       "       [0.40565267],\n",
       "       [0.10851347],\n",
       "       [0.48636913],\n",
       "       [0.3041059 ],\n",
       "       [0.4450907 ],\n",
       "       [0.44559243],\n",
       "       [0.44641364],\n",
       "       [0.4436697 ],\n",
       "       [0.45696723],\n",
       "       [0.40121004],\n",
       "       [0.43276286],\n",
       "       [0.47371167],\n",
       "       [0.46575338],\n",
       "       [0.37494773],\n",
       "       [0.09294704],\n",
       "       [0.54907185],\n",
       "       [0.38354838],\n",
       "       [0.44643995],\n",
       "       [0.49595958],\n",
       "       [0.4626861 ],\n",
       "       [0.49191093],\n",
       "       [0.4658229 ],\n",
       "       [0.33512866],\n",
       "       [0.45686573],\n",
       "       [0.44135547],\n",
       "       [0.4924775 ],\n",
       "       [0.62208235],\n",
       "       [0.45262638],\n",
       "       [0.38080287],\n",
       "       [0.45390812],\n",
       "       [0.488953  ],\n",
       "       [0.48700434],\n",
       "       [0.4960037 ],\n",
       "       [0.48504487],\n",
       "       [0.41385427],\n",
       "       [0.34288228],\n",
       "       [0.5140534 ],\n",
       "       [0.4547587 ],\n",
       "       [0.60322744],\n",
       "       [0.50546163],\n",
       "       [0.49184358],\n",
       "       [0.41981366],\n",
       "       [0.47550887],\n",
       "       [0.48880178],\n",
       "       [0.453979  ],\n",
       "       [0.46285453],\n",
       "       [0.49540916],\n",
       "       [0.7169674 ],\n",
       "       [0.5236616 ],\n",
       "       [0.4716625 ],\n",
       "       [0.4506353 ],\n",
       "       [0.46467438],\n",
       "       [0.598485  ],\n",
       "       [0.52726436],\n",
       "       [0.3191626 ],\n",
       "       [0.52545846],\n",
       "       [0.48897976],\n",
       "       [0.45612127],\n",
       "       [0.42947277],\n",
       "       [0.494661  ],\n",
       "       [0.46511737],\n",
       "       [0.5206681 ],\n",
       "       [0.27309898],\n",
       "       [0.31744733],\n",
       "       [0.49518737],\n",
       "       [0.49169913],\n",
       "       [0.48110083],\n",
       "       [0.46388596],\n",
       "       [0.36672354],\n",
       "       [0.4807791 ],\n",
       "       [0.524375  ],\n",
       "       [0.36945564],\n",
       "       [0.47447908],\n",
       "       [0.3632499 ],\n",
       "       [0.48799786],\n",
       "       [0.45759714],\n",
       "       [0.45880637],\n",
       "       [0.4273556 ],\n",
       "       [0.48165718],\n",
       "       [0.44400543],\n",
       "       [0.49738476],\n",
       "       [0.47494128],\n",
       "       [0.46391994],\n",
       "       [0.47908556],\n",
       "       [0.6705245 ],\n",
       "       [0.46337742],\n",
       "       [0.47918913],\n",
       "       [0.49153328],\n",
       "       [0.4204122 ],\n",
       "       [0.4601066 ],\n",
       "       [0.47355458],\n",
       "       [0.4701227 ],\n",
       "       [0.477608  ],\n",
       "       [0.46615022],\n",
       "       [0.48608267],\n",
       "       [0.47252193],\n",
       "       [0.45481682],\n",
       "       [0.58810365],\n",
       "       [0.4791898 ]], dtype=float32)"
      ]
     },
     "execution_count": 308,
     "metadata": {},
     "output_type": "execute_result"
    }
   ],
   "source": [
    "bottleneck_features_train "
   ]
  },
  {
   "cell_type": "code",
   "execution_count": 309,
   "metadata": {},
   "outputs": [
    {
     "name": "stdout",
     "output_type": "stream",
     "text": [
      "WARNING:tensorflow:Your input ran out of data; interrupting training. Make sure that your dataset or generator can generate at least `steps_per_epoch * epochs` batches (in this case, 16 batches). You may need to use the repeat() function when building your dataset.\n",
      "[INFO] accuracy: 62.50%\n",
      "[INFO] Loss:  0.6382875442504883\n"
     ]
    }
   ],
   "source": [
    "#Get the accuracy score\n",
    "test_score = model.evaluate_generator(test_set, batch_size)\n",
    "\n",
    "print(\"[INFO] accuracy: {:.2f}%\".format(test_score[1] * 100)) \n",
    "print(\"[INFO] Loss: \",test_score[0])\n"
   ]
  },
  {
   "cell_type": "code",
   "execution_count": 311,
   "metadata": {},
   "outputs": [
    {
     "data": {
      "text/plain": [
       "Text(0.5, 1.0, 'Loss Curves')"
      ]
     },
     "execution_count": 311,
     "metadata": {},
     "output_type": "execute_result"
    },
    {
     "data": {
      "image/png": "[encoded data removed]",
      "text/plain": [
       "<Figure size 576x432 with 1 Axes>"
      ]
     },
     "metadata": {
      "needs_background": "light"
     },
     "output_type": "display_data"
    }
   ],
   "source": [
    "#Plot the Graph\n",
    "import matplotlib.pyplot as plt\n",
    "# Loss Curves\n",
    "plt.figure(figsize=[8,6])\n",
    "plt.plot(history.history['loss'],'r',linewidth=3.0)\n",
    "plt.plot(history.history['val_loss'],'b',linewidth=3.0)\n",
    "plt.legend(['Training loss', 'Validation Loss'],fontsize=18)\n",
    "plt.xlabel('Epochs ',fontsize=16)\n",
    "plt.ylabel('Loss',fontsize=16)\n",
    "plt.title('Loss Curves',fontsize=16)"
   ]
  },
  {
   "cell_type": "code",
   "execution_count": 312,
   "metadata": {},
   "outputs": [
    {
     "data": {
      "text/plain": [
       "Text(0.5, 1.0, 'Accuracy Curves')"
      ]
     },
     "execution_count": 312,
     "metadata": {},
     "output_type": "execute_result"
    },
    {
     "data": {
      "image/png": "[encoded data removed]",
      "text/plain": [
       "<Figure size 576x432 with 1 Axes>"
      ]
     },
     "metadata": {
      "needs_background": "light"
     },
     "output_type": "display_data"
    }
   ],
   "source": [
    "# Accuracy Curves\n",
    "plt.figure(figsize=[8,6])\n",
    "plt.plot(history.history['accuracy'],'r',linewidth=3.0)\n",
    "plt.plot(history.history['val_accuracy'],'b',linewidth=3.0)\n",
    "plt.legend(['Training Accuracy', 'Validation Accuracy'],fontsize=18)\n",
    "plt.xlabel('Epochs ',fontsize=16)\n",
    "plt.ylabel('Accuracy',fontsize=16)\n",
    "plt.title('Accuracy Curves',fontsize=16)\n"
   ]
  },
  {
   "cell_type": "code",
   "execution_count": null,
   "metadata": {},
   "outputs": [],
   "source": []
  },
  {
   "cell_type": "code",
   "execution_count": null,
   "metadata": {},
   "outputs": [],
   "source": []
  },
  {
   "cell_type": "code",
   "execution_count": null,
   "metadata": {},
   "outputs": [],
   "source": []
  }
 ],
 "metadata": {
  "kernelspec": {
   "display_name": "Python 3",
   "language": "python",
   "name": "python3"
  },
  "language_info": {
   "codemirror_mode": {
    "name": "ipython",
    "version": 3
   },
   "file_extension": ".py",
   "mimetype": "text/x-python",
   "name": "python",
   "nbconvert_exporter": "python",
   "pygments_lexer": "ipython3",
   "version": "3.8.5"
  }
 },
 "nbformat": 4,
 "nbformat_minor": 4
}
