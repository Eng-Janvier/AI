{
 "cells": [
  {
   "cell_type": "markdown",
   "metadata": {
    "_cell_guid": "b1076dfc-b9ad-4769-8c92-a6c4dae69d19",
    "_uuid": "8f2839f25d086af736a60e9eeb907d3b93b6e0e5"
   },
   "source": [
    "### TASK TWO: LINEAR REGRESSION\n",
    "    Done By:\n",
    " Names: Eng.NIYITEGEKA Janvier , \n",
    " Email: nijas2012@yahoo.com ,\n",
    " TEL+ 250788973044 ,\n",
    " Address : Kigali/Rwanda\n",
    "    "
   ]
  },
  {
   "cell_type": "markdown",
   "metadata": {},
   "source": [
    "# Insurance cost prediction using linear regression\n",
    "\n",
    "In this assignment we're going to use information like a person's age, sex, BMI, no. of children and smoking habit to predict the price of yearly medical bills. This kind of model is useful for insurance companies to determine the yearly insurance premium for a person. The dataset for this problem is taken from: https://www.kaggle.com/mirichoi0218/insurance\n",
    "\n",
    "\n",
    "We will create a model with the following steps:\n",
    "1. Download and explore the dataset\n",
    "2. Prepare the dataset for training\n",
    "3. Create a linear regression model\n",
    "4. Train the model to fit the data\n",
    "5. Make predictions using the trained model\n",
    "\n",
    "\n",
    "This assignment builds upon the concepts from the first 2 lectures. It will help to review these Jupyter notebooks:\n",
    "- PyTorch basics: https://jovian.ml/aakashns/01-pytorch-basics\n",
    "- Linear Regression: https://jovian.ml/aakashns/02-linear-regression\n",
    "- Logistic Regression: https://jovian.ml/aakashns/03-logistic-regression\n",
    "- Linear regression (minimal): https://jovian.ml/aakashns/housing-linear-minimal\n",
    "- Logistic regression (minimal): https://jovian.ml/aakashns/mnist-logistic-minimal\n",
    "\n",
    "As you go through this notebook, you will find a **???** in certain places. Your job is to replace the **???** with appropriate code or values, to ensure that the notebook runs properly end-to-end . In some cases, you'll be required to choose some hyperparameters (learning rate, batch size etc.). Try to experiment with the hypeparameters to get the lowest loss.\n"
   ]
  },
  {
   "cell_type": "code",
   "execution_count": 375,
   "metadata": {},
   "outputs": [],
   "source": [
    "# Uncomment and run the commands below if imports fail\n",
    "# !conda install numpy pytorch torchvision cpuonly -c pytorch -y\n",
    "# !pip install matplotlib --upgrade --quiet\n",
    "#!pip install jovian --upgrade --quiet"
   ]
  },
  {
   "cell_type": "code",
   "execution_count": 410,
   "metadata": {},
   "outputs": [],
   "source": [
    "import torch\n",
    "import jovian\n",
    "import torchvision\n",
    "import torch.nn as nn\n",
    "import pandas as pd\n",
    "import matplotlib.pyplot as plt\n",
    "import torch.nn.functional as F\n",
    "from torchvision.datasets.utils import download_url\n",
    "from torch.utils.data import DataLoader, TensorDataset, random_split"
   ]
  },
  {
   "cell_type": "code",
   "execution_count": 411,
   "metadata": {},
   "outputs": [],
   "source": [
    "project_name='02-insurance-linear-regression' # will be used by jovian.commit"
   ]
  },
  {
   "cell_type": "markdown",
   "metadata": {},
   "source": [
    "## Step 1: Download and explore the data\n",
    "\n",
    "Let us begin by downloading the data. We'll use the `download_url` function from PyTorch to get the data as a CSV (comma-separated values) file. "
   ]
  },
  {
   "cell_type": "code",
   "execution_count": 412,
   "metadata": {
    "_cell_guid": "79c7e3d0-c299-4dcb-8224-4455121ee9b0",
    "_uuid": "d629ff2d2480ee46fbb7e2d37f6b5fab8052498a"
   },
   "outputs": [
    {
     "name": "stdout",
     "output_type": "stream",
     "text": [
      "Using downloaded and verified file: .\\insurance.csv\n"
     ]
    }
   ],
   "source": [
    "DATASET_URL = \"https://hub.jovian.ml/wp-content/uploads/2020/05/insurance.csv\"\n",
    "DATA_FILENAME = \"insurance.csv\"\n",
    "download_url(DATASET_URL, '.')"
   ]
  },
  {
   "cell_type": "markdown",
   "metadata": {},
   "source": [
    "To load the dataset into memory, we'll use the `read_csv` function from the `pandas` library. The data will be loaded as a Pandas dataframe. See this short tutorial to learn more: https://data36.com/pandas-tutorial-1-basics-reading-data-files-dataframes-data-selection/"
   ]
  },
  {
   "cell_type": "code",
   "execution_count": 413,
   "metadata": {},
   "outputs": [
    {
     "data": {
      "text/html": [
       "<div>\n",
       "<style scoped>\n",
       "    .dataframe tbody tr th:only-of-type {\n",
       "        vertical-align: middle;\n",
       "    }\n",
       "\n",
       "    .dataframe tbody tr th {\n",
       "        vertical-align: top;\n",
       "    }\n",
       "\n",
       "    .dataframe thead th {\n",
       "        text-align: right;\n",
       "    }\n",
       "</style>\n",
       "<table border=\"1\" class=\"dataframe\">\n",
       "  <thead>\n",
       "    <tr style=\"text-align: right;\">\n",
       "      <th></th>\n",
       "      <th>age</th>\n",
       "      <th>sex</th>\n",
       "      <th>bmi</th>\n",
       "      <th>children</th>\n",
       "      <th>smoker</th>\n",
       "      <th>region</th>\n",
       "      <th>charges</th>\n",
       "    </tr>\n",
       "  </thead>\n",
       "  <tbody>\n",
       "    <tr>\n",
       "      <th>0</th>\n",
       "      <td>19</td>\n",
       "      <td>female</td>\n",
       "      <td>27.900</td>\n",
       "      <td>0</td>\n",
       "      <td>yes</td>\n",
       "      <td>southwest</td>\n",
       "      <td>16884.92400</td>\n",
       "    </tr>\n",
       "    <tr>\n",
       "      <th>1</th>\n",
       "      <td>18</td>\n",
       "      <td>male</td>\n",
       "      <td>33.770</td>\n",
       "      <td>1</td>\n",
       "      <td>no</td>\n",
       "      <td>southeast</td>\n",
       "      <td>1725.55230</td>\n",
       "    </tr>\n",
       "    <tr>\n",
       "      <th>2</th>\n",
       "      <td>28</td>\n",
       "      <td>male</td>\n",
       "      <td>33.000</td>\n",
       "      <td>3</td>\n",
       "      <td>no</td>\n",
       "      <td>southeast</td>\n",
       "      <td>4449.46200</td>\n",
       "    </tr>\n",
       "    <tr>\n",
       "      <th>3</th>\n",
       "      <td>33</td>\n",
       "      <td>male</td>\n",
       "      <td>22.705</td>\n",
       "      <td>0</td>\n",
       "      <td>no</td>\n",
       "      <td>northwest</td>\n",
       "      <td>21984.47061</td>\n",
       "    </tr>\n",
       "    <tr>\n",
       "      <th>4</th>\n",
       "      <td>32</td>\n",
       "      <td>male</td>\n",
       "      <td>28.880</td>\n",
       "      <td>0</td>\n",
       "      <td>no</td>\n",
       "      <td>northwest</td>\n",
       "      <td>3866.85520</td>\n",
       "    </tr>\n",
       "  </tbody>\n",
       "</table>\n",
       "</div>"
      ],
      "text/plain": [
       "   age     sex     bmi  children smoker     region      charges\n",
       "0   19  female  27.900         0    yes  southwest  16884.92400\n",
       "1   18    male  33.770         1     no  southeast   1725.55230\n",
       "2   28    male  33.000         3     no  southeast   4449.46200\n",
       "3   33    male  22.705         0     no  northwest  21984.47061\n",
       "4   32    male  28.880         0     no  northwest   3866.85520"
      ]
     },
     "execution_count": 413,
     "metadata": {},
     "output_type": "execute_result"
    }
   ],
   "source": [
    "dataframe_raw = pd.read_csv(DATA_FILENAME)\n",
    "dataframe_raw.head()"
   ]
  },
  {
   "cell_type": "markdown",
   "metadata": {},
   "source": [
    "We're going to do a slight customization of the data, so that you every participant receives a slightly different version of the dataset. Fill in your name below as a string (enter at least 5 characters)"
   ]
  },
  {
   "cell_type": "code",
   "execution_count": 414,
   "metadata": {},
   "outputs": [],
   "source": [
    "your_name = \"Janvier\" # at least 5 characters"
   ]
  },
  {
   "cell_type": "markdown",
   "metadata": {},
   "source": [
    "The `customize_dataset` function will customize the dataset slightly using your name as a source of random numbers."
   ]
  },
  {
   "cell_type": "code",
   "execution_count": 415,
   "metadata": {},
   "outputs": [],
   "source": [
    "def customize_dataset(dataframe_raw, rand_str):\n",
    "    dataframe = dataframe_raw.copy(deep=True)\n",
    "    # drop some rows\n",
    "    dataframe = dataframe.sample(int(0.95*len(dataframe)), random_state=int(ord(rand_str[0])))\n",
    "    # scale input\n",
    "    dataframe.bmi = dataframe.bmi * ord(rand_str[1])/100.\n",
    "    # scale target\n",
    "    dataframe.charges = dataframe.charges * ord(rand_str[2])/100.\n",
    "    # drop column\n",
    "    if ord(rand_str[3]) % 2 == 1:\n",
    "        dataframe = dataframe.drop(['region'], axis=1)\n",
    "    return dataframe"
   ]
  },
  {
   "cell_type": "code",
   "execution_count": 416,
   "metadata": {},
   "outputs": [
    {
     "data": {
      "text/html": [
       "<div>\n",
       "<style scoped>\n",
       "    .dataframe tbody tr th:only-of-type {\n",
       "        vertical-align: middle;\n",
       "    }\n",
       "\n",
       "    .dataframe tbody tr th {\n",
       "        vertical-align: top;\n",
       "    }\n",
       "\n",
       "    .dataframe thead th {\n",
       "        text-align: right;\n",
       "    }\n",
       "</style>\n",
       "<table border=\"1\" class=\"dataframe\">\n",
       "  <thead>\n",
       "    <tr style=\"text-align: right;\">\n",
       "      <th></th>\n",
       "      <th>age</th>\n",
       "      <th>sex</th>\n",
       "      <th>bmi</th>\n",
       "      <th>children</th>\n",
       "      <th>smoker</th>\n",
       "      <th>region</th>\n",
       "      <th>charges</th>\n",
       "    </tr>\n",
       "  </thead>\n",
       "  <tbody>\n",
       "    <tr>\n",
       "      <th>676</th>\n",
       "      <td>55</td>\n",
       "      <td>female</td>\n",
       "      <td>39.58570</td>\n",
       "      <td>3</td>\n",
       "      <td>no</td>\n",
       "      <td>southeast</td>\n",
       "      <td>13734.380990</td>\n",
       "    </tr>\n",
       "    <tr>\n",
       "      <th>217</th>\n",
       "      <td>27</td>\n",
       "      <td>male</td>\n",
       "      <td>22.40700</td>\n",
       "      <td>0</td>\n",
       "      <td>no</td>\n",
       "      <td>southeast</td>\n",
       "      <td>2732.109600</td>\n",
       "    </tr>\n",
       "    <tr>\n",
       "      <th>864</th>\n",
       "      <td>51</td>\n",
       "      <td>male</td>\n",
       "      <td>24.63800</td>\n",
       "      <td>0</td>\n",
       "      <td>no</td>\n",
       "      <td>southwest</td>\n",
       "      <td>9660.715900</td>\n",
       "    </tr>\n",
       "    <tr>\n",
       "      <th>751</th>\n",
       "      <td>21</td>\n",
       "      <td>male</td>\n",
       "      <td>28.10575</td>\n",
       "      <td>0</td>\n",
       "      <td>no</td>\n",
       "      <td>northwest</td>\n",
       "      <td>2096.994075</td>\n",
       "    </tr>\n",
       "    <tr>\n",
       "      <th>1106</th>\n",
       "      <td>49</td>\n",
       "      <td>female</td>\n",
       "      <td>29.02725</td>\n",
       "      <td>0</td>\n",
       "      <td>no</td>\n",
       "      <td>northwest</td>\n",
       "      <td>9886.974625</td>\n",
       "    </tr>\n",
       "  </tbody>\n",
       "</table>\n",
       "</div>"
      ],
      "text/plain": [
       "      age     sex       bmi  children smoker     region       charges\n",
       "676    55  female  39.58570         3     no  southeast  13734.380990\n",
       "217    27    male  22.40700         0     no  southeast   2732.109600\n",
       "864    51    male  24.63800         0     no  southwest   9660.715900\n",
       "751    21    male  28.10575         0     no  northwest   2096.994075\n",
       "1106   49  female  29.02725         0     no  northwest   9886.974625"
      ]
     },
     "execution_count": 416,
     "metadata": {},
     "output_type": "execute_result"
    }
   ],
   "source": [
    "dataframe = customize_dataset(dataframe_raw, your_name)\n",
    "dataframe.head()"
   ]
  },
  {
   "cell_type": "markdown",
   "metadata": {},
   "source": [
    "Let us answer some basic questions about the dataset. \n",
    "\n",
    "\n",
    "**Q: How many rows does the dataset have?**"
   ]
  },
  {
   "cell_type": "code",
   "execution_count": 417,
   "metadata": {},
   "outputs": [
    {
     "name": "stdout",
     "output_type": "stream",
     "text": [
      "1271\n"
     ]
    }
   ],
   "source": [
    "num_rows = len(dataframe)\n",
    "print(num_rows)"
   ]
  },
  {
   "cell_type": "markdown",
   "metadata": {},
   "source": [
    "**Q: How many columns doe the dataset have**"
   ]
  },
  {
   "cell_type": "code",
   "execution_count": 418,
   "metadata": {},
   "outputs": [
    {
     "name": "stdout",
     "output_type": "stream",
     "text": [
      "7\n"
     ]
    }
   ],
   "source": [
    "num_cols = len(dataframe.columns)\n",
    "print(num_cols)"
   ]
  },
  {
   "cell_type": "markdown",
   "metadata": {},
   "source": [
    "**Q: What are the column titles of the input variables?**"
   ]
  },
  {
   "cell_type": "code",
   "execution_count": 419,
   "metadata": {},
   "outputs": [
    {
     "data": {
      "text/plain": [
       "['age', 'sex', 'bmi', 'children', 'smoker', 'region', 'charges']"
      ]
     },
     "execution_count": 419,
     "metadata": {},
     "output_type": "execute_result"
    }
   ],
   "source": [
    "list(dataframe.columns)"
   ]
  },
  {
   "cell_type": "code",
   "execution_count": 420,
   "metadata": {},
   "outputs": [],
   "source": [
    "input_cols = ['age', 'sex', 'bmi', 'children', 'smoker','region']"
   ]
  },
  {
   "cell_type": "markdown",
   "metadata": {},
   "source": [
    "**Q: Which of the input columns are non-numeric or categorial variables ?**\n",
    "\n",
    "Hint: `sex` is one of them. List the columns that are not numbers."
   ]
  },
  {
   "cell_type": "code",
   "execution_count": 422,
   "metadata": {},
   "outputs": [],
   "source": [
    "categorical_cols = ['sex', 'smoker','region']"
   ]
  },
  {
   "cell_type": "markdown",
   "metadata": {},
   "source": [
    "**Q: What are the column titles of output/target variable(s)?**"
   ]
  },
  {
   "cell_type": "code",
   "execution_count": 423,
   "metadata": {},
   "outputs": [],
   "source": [
    "output_cols = ['charges']"
   ]
  },
  {
   "cell_type": "markdown",
   "metadata": {},
   "source": [
    "**Q: (Optional) What is the minimum, maximum and average value of the `charges` column? Can you show the distribution of values in a graph?**\n",
    "Use this data visualization cheatsheet for referece: https://jovian.ml/aakashns/dataviz-cheatsheet"
   ]
  },
  {
   "cell_type": "code",
   "execution_count": 424,
   "metadata": {},
   "outputs": [
    {
     "name": "stdout",
     "output_type": "stream",
     "text": [
      "Charges Min=1234.0613\n",
      " charges Mx = 70147.4708\n",
      " Charges Average = 14584.0291\n"
     ]
    }
   ],
   "source": [
    "# Write your answer here\n",
    "data=dataframe[['charges']].values\n",
    "print(\"Charges Min={:.4f}\\n charges Mx = {:.4f}\\n Charges Average = {:.4f}\".format(data.min(),data.max(),data.mean()))"
   ]
  },
  {
   "cell_type": "code",
   "execution_count": 425,
   "metadata": {},
   "outputs": [
    {
     "data": {
      "text/plain": [
       "Text(0.5, 1.0, 'Charges Distribution')"
      ]
     },
     "execution_count": 425,
     "metadata": {},
     "output_type": "execute_result"
    },
    {
     "data": {
      "image/png": "[encoded data removed]",
      "text/plain": [
       "<Figure size 432x288 with 1 Axes>"
      ]
     },
     "metadata": {
      "needs_background": "light"
     },
     "output_type": "display_data"
    }
   ],
   "source": [
    "plt.plot(data,'.')\n",
    "plt.xlabel('count')\n",
    "plt.ylabel('Charges Amount')\n",
    "plt.title('Charges Distribution')"
   ]
  },
  {
   "cell_type": "markdown",
   "metadata": {},
   "source": [
    "Remember to commit your notebook to Jovian after every step, so that you don't lose your work."
   ]
  },
  {
   "cell_type": "code",
   "execution_count": 426,
   "metadata": {},
   "outputs": [
    {
     "data": {
      "application/javascript": [
       "window.require && require([\"base/js/namespace\"],function(Jupyter){Jupyter.notebook.save_checkpoint()})"
      ],
      "text/plain": [
       "<IPython.core.display.Javascript object>"
      ]
     },
     "metadata": {},
     "output_type": "display_data"
    },
    {
     "name": "stdout",
     "output_type": "stream",
     "text": [
      "[jovian] Attempting to save notebook..\n",
      "[jovian] Updating notebook \"njanvier/02-insurance-linear-regression\" on https://jovian.ml/\n",
      "[jovian] Uploading notebook..\n",
      "[jovian] Attaching records (metrics, hyperparameters, dataset etc.)\n",
      "[jovian] Committed successfully! https://jovian.ml/njanvier/02-insurance-linear-regression\n"
     ]
    },
    {
     "data": {
      "text/plain": [
       "'https://jovian.ml/njanvier/02-insurance-linear-regression'"
      ]
     },
     "execution_count": 426,
     "metadata": {},
     "output_type": "execute_result"
    }
   ],
   "source": [
    "jovian.commit(project=project_name, environment=None)"
   ]
  },
  {
   "cell_type": "markdown",
   "metadata": {},
   "source": [
    "## Step 2: Prepare the dataset for training\n",
    "\n",
    "We need to convert the data from the Pandas dataframe into a PyTorch tensors for training. To do this, the first step is to convert it numpy arrays. If you've filled out `input_cols`, `categorial_cols` and `output_cols` correctly, this following function will perform the conversion to numpy arrays."
   ]
  },
  {
   "cell_type": "code",
   "execution_count": 427,
   "metadata": {},
   "outputs": [],
   "source": [
    "def dataframe_to_arrays(dataframe):\n",
    "    # Make a copy of the original dataframe\n",
    "    dataframe1 = dataframe.copy(deep=True)\n",
    "    # Convert non-numeric categorical columns to numbers\n",
    "    for col in categorical_cols:\n",
    "        dataframe1[col] = dataframe1[col].astype('category').cat.codes\n",
    "    # Extract input & outupts as numpy arrays\n",
    "    inputs_array = dataframe1[input_cols].to_numpy()\n",
    "    targets_array = dataframe1[output_cols].to_numpy()\n",
    "    return inputs_array, targets_array"
   ]
  },
  {
   "cell_type": "markdown",
   "metadata": {},
   "source": [
    "Read through the [Pandas documentation](https://pandas.pydata.org/pandas-docs/stable/user_guide/categorical.html) to understand how we're converting categorical variables into numbers."
   ]
  },
  {
   "cell_type": "code",
   "execution_count": 428,
   "metadata": {},
   "outputs": [
    {
     "data": {
      "text/plain": [
       "(array([[55.    ,  0.    , 39.5857,  3.    ,  0.    ,  2.    ],\n",
       "        [27.    ,  1.    , 22.407 ,  0.    ,  0.    ,  2.    ],\n",
       "        [51.    ,  1.    , 24.638 ,  0.    ,  0.    ,  3.    ],\n",
       "        ...,\n",
       "        [53.    ,  1.    , 25.6177,  2.    ,  0.    ,  0.    ],\n",
       "        [19.    ,  0.    , 39.285 ,  0.    ,  0.    ,  3.    ],\n",
       "        [55.    ,  1.    , 31.6899,  1.    ,  0.    ,  2.    ]]),\n",
       " array([[13734.38099],\n",
       "        [ 2732.1096 ],\n",
       "        [ 9660.7159 ],\n",
       "        ...,\n",
       "        [12368.81459],\n",
       "        [ 1935.2718 ],\n",
       "        [11888.23493]]))"
      ]
     },
     "execution_count": 428,
     "metadata": {},
     "output_type": "execute_result"
    }
   ],
   "source": [
    "inputs_array, targets_array = dataframe_to_arrays(dataframe)\n",
    "inputs_array, targets_array"
   ]
  },
  {
   "cell_type": "markdown",
   "metadata": {},
   "source": [
    "**Q: Convert the numpy arrays `inputs_array` and `targets_array` into PyTorch tensors. Make sure that the data type is `torch.float32`.**"
   ]
  },
  {
   "cell_type": "code",
   "execution_count": 429,
   "metadata": {},
   "outputs": [],
   "source": [
    "inputs = torch.tensor(inputs_array,dtype=torch.float32)\n",
    "targets = torch.tensor(targets_array,dtype=torch.float32)"
   ]
  },
  {
   "cell_type": "code",
   "execution_count": 430,
   "metadata": {},
   "outputs": [
    {
     "data": {
      "text/plain": [
       "(torch.float32, torch.float32)"
      ]
     },
     "execution_count": 430,
     "metadata": {},
     "output_type": "execute_result"
    }
   ],
   "source": [
    "inputs.dtype, targets.dtype"
   ]
  },
  {
   "cell_type": "markdown",
   "metadata": {},
   "source": [
    "Next, we need to create PyTorch datasets & data loaders for training & validation. We'll start by creating a `TensorDataset`."
   ]
  },
  {
   "cell_type": "code",
   "execution_count": 431,
   "metadata": {},
   "outputs": [],
   "source": [
    "dataset = TensorDataset(inputs, targets)"
   ]
  },
  {
   "cell_type": "markdown",
   "metadata": {},
   "source": [
    "**Q: Pick a number between `0.1` and `0.2` to determine the fraction of data that will be used for creating the validation set. Then use `random_split` to create training & validation datasets. **"
   ]
  },
  {
   "cell_type": "code",
   "execution_count": 432,
   "metadata": {},
   "outputs": [],
   "source": [
    "val_percent = 0.2 # between 0.1 and 0.2\n",
    "val_size = int(num_rows * val_percent)\n",
    "train_size = num_rows - val_size\n",
    "\n",
    "\n",
    "train_ds, val_ds = random_split(dataset,[train_size,val_size]) # Use the random_split function to split dataset into 2 parts of the desired length"
   ]
  },
  {
   "cell_type": "markdown",
   "metadata": {},
   "source": [
    "Finally, we can create data loaders for training & validation.\n",
    "\n",
    "**Q: Pick a batch size for the data loader.**"
   ]
  },
  {
   "cell_type": "code",
   "execution_count": 433,
   "metadata": {},
   "outputs": [],
   "source": [
    "batch_size = 128"
   ]
  },
  {
   "cell_type": "code",
   "execution_count": 434,
   "metadata": {},
   "outputs": [],
   "source": [
    "train_loader = DataLoader(train_ds, batch_size, shuffle=True)\n",
    "val_loader = DataLoader(val_ds, batch_size)"
   ]
  },
  {
   "cell_type": "markdown",
   "metadata": {},
   "source": [
    "Let's look at a batch of data to verify everything is working fine so far."
   ]
  },
  {
   "cell_type": "code",
   "execution_count": 435,
   "metadata": {},
   "outputs": [
    {
     "name": "stdout",
     "output_type": "stream",
     "text": [
      "inputs: tensor([[56.0000,  0.0000, 25.8020,  1.0000,  0.0000,  1.0000],\n",
      "        [58.0000,  0.0000, 31.9760,  0.0000,  0.0000,  0.0000],\n",
      "        [44.0000,  0.0000, 26.6750,  1.0000,  0.0000,  3.0000],\n",
      "        [30.0000,  0.0000, 27.0921,  0.0000,  0.0000,  0.0000],\n",
      "        [37.0000,  0.0000, 29.8760,  2.0000,  0.0000,  2.0000],\n",
      "        [24.0000,  1.0000, 27.6450,  0.0000,  1.0000,  0.0000],\n",
      "        [18.0000,  0.0000, 25.5256,  0.0000,  0.0000,  0.0000],\n",
      "        [48.0000,  1.0000, 28.7120,  0.0000,  0.0000,  3.0000],\n",
      "        [31.0000,  0.0000, 22.8920,  2.0000,  0.0000,  3.0000],\n",
      "        [31.0000,  1.0000, 26.0784,  1.0000,  0.0000,  0.0000],\n",
      "        [29.0000,  1.0000, 21.8396,  3.0000,  0.0000,  0.0000],\n",
      "        [44.0000,  1.0000, 30.4095,  1.0000,  1.0000,  0.0000],\n",
      "        [49.0000,  1.0000, 36.3847,  2.0000,  0.0000,  2.0000],\n",
      "        [59.0000,  1.0000, 24.6962,  0.0000,  0.0000,  1.0000],\n",
      "        [44.0000,  0.0000, 25.6177,  0.0000,  0.0000,  1.0000],\n",
      "        [28.0000,  1.0000, 30.7296,  0.0000,  1.0000,  2.0000],\n",
      "        [25.0000,  0.0000, 23.5710,  3.0000,  0.0000,  3.0000],\n",
      "        [36.0000,  0.0000, 25.1230,  1.0000,  0.0000,  3.0000],\n",
      "        [22.0000,  1.0000, 31.1467,  0.0000,  0.0000,  1.0000],\n",
      "        [49.0000,  0.0000, 26.3549,  0.0000,  0.0000,  2.0000],\n",
      "        [59.0000,  0.0000, 34.1440,  0.0000,  0.0000,  2.0000],\n",
      "        [54.0000,  0.0000, 45.2990,  2.0000,  0.0000,  3.0000],\n",
      "        [54.0000,  1.0000, 24.3470,  3.0000,  1.0000,  3.0000],\n",
      "        [60.0000,  1.0000, 32.1167,  3.0000,  0.0000,  2.0000],\n",
      "        [30.0000,  0.0000, 32.3301,  1.0000,  0.0000,  2.0000],\n",
      "        [31.0000,  1.0000, 29.9487,  0.0000,  0.0000,  0.0000],\n",
      "        [35.0000,  1.0000, 37.4420,  1.0000,  0.0000,  3.0000],\n",
      "        [44.0000,  0.0000, 35.3856,  0.0000,  0.0000,  0.0000],\n",
      "        [19.0000,  1.0000, 19.8123,  0.0000,  0.0000,  1.0000],\n",
      "        [52.0000,  0.0000, 29.8566,  1.0000,  0.0000,  0.0000],\n",
      "        [32.0000,  1.0000, 36.2150,  1.0000,  0.0000,  0.0000],\n",
      "        [53.0000,  0.0000, 35.7542,  3.0000,  1.0000,  1.0000],\n",
      "        [48.0000,  0.0000, 32.1167,  0.0000,  1.0000,  2.0000],\n",
      "        [19.0000,  1.0000, 21.1024,  0.0000,  0.0000,  1.0000],\n",
      "        [19.0000,  0.0000, 39.2850,  0.0000,  0.0000,  3.0000],\n",
      "        [45.0000,  1.0000, 29.5802,  2.0000,  0.0000,  1.0000],\n",
      "        [48.0000,  0.0000, 28.0330,  0.0000,  0.0000,  3.0000],\n",
      "        [62.0000,  0.0000, 31.6996,  0.0000,  0.0000,  1.0000],\n",
      "        [49.0000,  1.0000, 28.9351,  1.0000,  0.0000,  0.0000],\n",
      "        [27.0000,  0.0000, 34.9976,  0.0000,  1.0000,  2.0000],\n",
      "        [35.0000,  0.0000, 33.7560,  1.0000,  0.0000,  3.0000],\n",
      "        [43.0000,  0.0000, 26.0784,  0.0000,  1.0000,  1.0000],\n",
      "        [60.0000,  0.0000, 34.9249,  0.0000,  0.0000,  0.0000],\n",
      "        [18.0000,  1.0000, 36.1713,  0.0000,  0.0000,  2.0000],\n",
      "        [54.0000,  1.0000, 32.6211,  1.0000,  0.0000,  1.0000],\n",
      "        [44.0000,  0.0000, 35.8464,  1.0000,  0.0000,  1.0000],\n",
      "        [44.0000,  1.0000, 29.7693,  2.0000,  0.0000,  2.0000],\n",
      "        [62.0000,  0.0000, 24.2500,  0.0000,  0.0000,  3.0000],\n",
      "        [22.0000,  0.0000, 33.5426,  2.0000,  0.0000,  0.0000],\n",
      "        [54.0000,  1.0000, 23.3139,  0.0000,  0.0000,  0.0000],\n",
      "        [50.0000,  1.0000, 35.9579,  1.0000,  0.0000,  2.0000],\n",
      "        [46.0000,  1.0000, 25.8214,  1.0000,  0.0000,  2.0000],\n",
      "        [51.0000,  0.0000, 32.8975,  0.0000,  0.0000,  0.0000],\n",
      "        [31.0000,  0.0000, 21.1024,  0.0000,  0.0000,  1.0000],\n",
      "        [20.0000,  0.0000, 29.6723,  0.0000,  0.0000,  0.0000],\n",
      "        [18.0000,  0.0000, 38.9795,  0.0000,  0.0000,  0.0000],\n",
      "        [50.0000,  0.0000, 43.4026,  0.0000,  0.0000,  0.0000],\n",
      "        [44.0000,  1.0000, 36.9182,  1.0000,  0.0000,  2.0000],\n",
      "        [52.0000,  1.0000, 46.3078,  1.0000,  0.0000,  2.0000],\n",
      "        [45.0000,  0.0000, 29.9730,  2.0000,  0.0000,  3.0000],\n",
      "        [37.0000,  0.0000, 46.1720,  2.0000,  1.0000,  3.0000],\n",
      "        [53.0000,  1.0000, 20.7580,  1.0000,  0.0000,  3.0000],\n",
      "        [18.0000,  1.0000, 30.7296,  2.0000,  1.0000,  2.0000],\n",
      "        [53.0000,  1.0000, 23.5904,  0.0000,  0.0000,  1.0000],\n",
      "        [39.0000,  0.0000, 33.2904,  5.0000,  0.0000,  2.0000],\n",
      "        [33.0000,  1.0000, 34.1876,  0.0000,  0.0000,  0.0000],\n",
      "        [21.0000,  1.0000, 34.4641,  0.0000,  0.0000,  2.0000],\n",
      "        [44.0000,  1.0000, 38.3344,  0.0000,  0.0000,  1.0000],\n",
      "        [21.0000,  0.0000, 33.5620,  0.0000,  0.0000,  3.0000],\n",
      "        [59.0000,  1.0000, 28.8090,  2.0000,  0.0000,  2.0000],\n",
      "        [33.0000,  0.0000, 27.4219,  1.0000,  0.0000,  2.0000],\n",
      "        [43.0000,  0.0000, 24.5119,  1.0000,  1.0000,  0.0000],\n",
      "        [40.0000,  1.0000, 33.0818,  1.0000,  0.0000,  0.0000],\n",
      "        [18.0000,  0.0000, 39.0716,  0.0000,  0.0000,  0.0000],\n",
      "        [21.0000,  0.0000, 21.4709,  0.0000,  0.0000,  0.0000],\n",
      "        [19.0000,  1.0000, 35.8464,  0.0000,  1.0000,  1.0000],\n",
      "        [35.0000,  0.0000, 27.1842,  0.0000,  1.0000,  1.0000],\n",
      "        [58.0000,  0.0000, 31.4231,  1.0000,  0.0000,  0.0000],\n",
      "        [42.0000,  1.0000, 36.0646,  2.0000,  0.0000,  2.0000],\n",
      "        [29.0000,  1.0000, 28.8430,  2.0000,  0.0000,  1.0000],\n",
      "        [41.0000,  1.0000, 35.9385,  2.0000,  0.0000,  1.0000],\n",
      "        [59.0000,  0.0000, 25.8941,  3.0000,  0.0000,  1.0000],\n",
      "        [43.0000,  1.0000, 24.7544,  5.0000,  0.0000,  2.0000],\n",
      "        [34.0000,  1.0000, 41.6130,  1.0000,  0.0000,  3.0000],\n",
      "        [55.0000,  1.0000, 29.7645,  0.0000,  1.0000,  0.0000],\n",
      "        [20.0000,  1.0000, 32.3301,  0.0000,  0.0000,  2.0000],\n",
      "        [32.0000,  1.0000, 27.2764,  4.0000,  1.0000,  1.0000],\n",
      "        [61.0000,  0.0000, 27.3540,  0.0000,  0.0000,  3.0000],\n",
      "        [48.0000,  0.0000, 27.0921,  4.0000,  0.0000,  1.0000],\n",
      "        [43.0000,  1.0000, 31.6220,  2.0000,  0.0000,  3.0000],\n",
      "        [24.0000,  1.0000, 25.9863,  1.0000,  0.0000,  1.0000],\n",
      "        [62.0000,  0.0000, 36.9521,  2.0000,  0.0000,  0.0000],\n",
      "        [51.0000,  0.0000, 17.5085,  0.0000,  0.0000,  1.0000],\n",
      "        [28.0000,  1.0000, 21.8396,  2.0000,  0.0000,  0.0000],\n",
      "        [63.0000,  1.0000, 35.6620,  0.0000,  0.0000,  0.0000],\n",
      "        [52.0000,  1.0000, 33.4505,  3.0000,  1.0000,  1.0000],\n",
      "        [55.0000,  1.0000, 36.5835,  3.0000,  0.0000,  1.0000],\n",
      "        [23.0000,  1.0000, 31.5832,  0.0000,  0.0000,  2.0000],\n",
      "        [23.0000,  0.0000, 31.7966,  2.0000,  1.0000,  2.0000],\n",
      "        [47.0000,  0.0000, 26.8157,  2.0000,  1.0000,  1.0000],\n",
      "        [19.0000,  1.0000, 29.6723,  0.0000,  0.0000,  1.0000],\n",
      "        [57.0000,  1.0000, 42.3890,  1.0000,  0.0000,  3.0000],\n",
      "        [54.0000,  0.0000, 30.9430,  1.0000,  0.0000,  2.0000],\n",
      "        [29.0000,  0.0000, 27.1018,  1.0000,  1.0000,  2.0000],\n",
      "        [36.0000,  1.0000, 40.6381,  3.0000,  1.0000,  0.0000],\n",
      "        [45.0000,  0.0000, 34.2410,  0.0000,  0.0000,  3.0000],\n",
      "        [29.0000,  1.0000, 34.4350,  2.0000,  1.0000,  3.0000],\n",
      "        [42.0000,  0.0000, 32.1604,  1.0000,  0.0000,  0.0000],\n",
      "        [23.0000,  0.0000, 30.4580,  0.0000,  1.0000,  3.0000],\n",
      "        [47.0000,  0.0000, 31.0400,  1.0000,  0.0000,  3.0000],\n",
      "        [45.0000,  0.0000, 27.7420,  2.0000,  0.0000,  2.0000],\n",
      "        [31.0000,  0.0000, 24.9678,  0.0000,  0.0000,  2.0000],\n",
      "        [23.0000,  1.0000, 25.7147,  0.0000,  0.0000,  2.0000],\n",
      "        [25.0000,  1.0000, 23.4061,  0.0000,  1.0000,  1.0000],\n",
      "        [44.0000,  0.0000, 25.0260,  1.0000,  0.0000,  3.0000],\n",
      "        [28.0000,  1.0000, 32.8054,  0.0000,  0.0000,  1.0000],\n",
      "        [51.0000,  1.0000, 24.6380,  0.0000,  0.0000,  3.0000],\n",
      "        [61.0000,  1.0000, 27.4607,  1.0000,  1.0000,  1.0000],\n",
      "        [41.0000,  0.0000, 30.0894,  0.0000,  0.0000,  2.0000],\n",
      "        [48.0000,  0.0000, 31.3310,  2.0000,  0.0000,  0.0000],\n",
      "        [50.0000,  0.0000, 26.9951,  3.0000,  0.0000,  2.0000],\n",
      "        [57.0000,  1.0000, 40.8661,  1.0000,  1.0000,  2.0000],\n",
      "        [44.0000,  0.0000, 28.9157,  2.0000,  0.0000,  2.0000],\n",
      "        [22.0000,  1.0000, 28.0136,  0.0000,  0.0000,  0.0000],\n",
      "        [43.0000,  1.0000, 34.8909,  3.0000,  1.0000,  2.0000],\n",
      "        [56.0000,  1.0000, 38.4120,  0.0000,  0.0000,  3.0000],\n",
      "        [63.0000,  0.0000, 21.0102,  0.0000,  0.0000,  0.0000],\n",
      "        [31.0000,  1.0000, 27.6450,  5.0000,  0.0000,  0.0000]])\n",
      "targets: tensor([[13248.7764],\n",
      "        [13674.0488],\n",
      "        [ 8389.6924],\n",
      "        [ 4551.2749],\n",
      "        [ 6945.1348],\n",
      "        [38662.2812],\n",
      "        [ 2418.0088],\n",
      "        [23355.4004],\n",
      "        [ 5424.8115],\n",
      "        [ 4885.3345],\n",
      "        [ 5730.5366],\n",
      "        [43512.1445],\n",
      "        [10235.1719],\n",
      "        [13337.4912],\n",
      "        [ 8161.4258],\n",
      "        [38139.3633],\n",
      "        [ 4830.8174],\n",
      "        [ 6019.6938],\n",
      "        [ 2260.8574],\n",
      "        [ 9461.4619],\n",
      "        [13468.9844],\n",
      "        [12692.2627],\n",
      "        [27920.5273],\n",
      "        [15311.8057],\n",
      "        [ 4566.1313],\n",
      "        [ 4243.5352],\n",
      "        [ 5238.5620],\n",
      "        [14076.9307],\n",
      "        [ 1787.9772],\n",
      "        [11877.0693],\n",
      "        [ 5134.3687],\n",
      "        [51327.5859],\n",
      "        [45071.5820],\n",
      "        [ 1790.0107],\n",
      "        [ 1935.2719],\n",
      "        [ 9254.8096],\n",
      "        [ 9105.2754],\n",
      "        [15229.2773],\n",
      "        [10216.8291],\n",
      "        [40847.2891],\n",
      "        [ 5770.6519],\n",
      "        [23951.7539],\n",
      "        [14551.7314],\n",
      "        [ 1255.5896],\n",
      "        [11907.7793],\n",
      "        [ 8825.4492],\n",
      "        [ 8504.5693],\n",
      "        [14796.2344],\n",
      "        [ 4318.3340],\n",
      "        [11465.2080],\n",
      "        [ 9952.8301],\n",
      "        [ 8516.3203],\n",
      "        [10852.9355],\n",
      "        [ 4547.4907],\n",
      "        [ 2705.6921],\n",
      "        [ 2439.2161],\n",
      "        [10495.8652],\n",
      "        [ 7867.9385],\n",
      "        [10723.8018],\n",
      "        [ 9372.0283],\n",
      "        [50724.8633],\n",
      "        [11071.9541],\n",
      "        [37733.4844],\n",
      "        [10849.8193],\n",
      "        [ 9456.5107],\n",
      "        [13645.3672],\n",
      "        [ 1685.7167],\n",
      "        [ 7643.5708],\n",
      "        [ 2222.1946],\n",
      "        [14218.4746],\n",
      "        [ 5257.5625],\n",
      "        [23948.4766],\n",
      "        [ 7260.2266],\n",
      "        [ 2439.3613],\n",
      "        [ 2844.4358],\n",
      "        [39841.3477],\n",
      "        [22258.3398],\n",
      "        [14321.0771],\n",
      "        [ 7878.2134],\n",
      "        [19973.6641],\n",
      "        [ 7992.2729],\n",
      "        [15820.9795],\n",
      "        [15926.1631],\n",
      "        [ 4989.8848],\n",
      "        [46534.0625],\n",
      "        [ 1530.6815],\n",
      "        [23619.7266],\n",
      "        [14346.1133],\n",
      "        [12116.6924],\n",
      "        [ 8185.6509],\n",
      "        [13870.8760],\n",
      "        [16753.3574],\n",
      "        [10608.6777],\n",
      "        [ 4871.7769],\n",
      "        [15380.0352],\n",
      "        [66023.5391],\n",
      "        [33069.9375],\n",
      "        [ 2006.7140],\n",
      "        [39623.1133],\n",
      "        [26989.2676],\n",
      "        [ 1803.5194],\n",
      "        [12733.7432],\n",
      "        [12021.7344],\n",
      "        [21018.5566],\n",
      "        [48128.6719],\n",
      "        [ 8082.9561],\n",
      "        [49044.0000],\n",
      "        [ 8403.3594],\n",
      "        [37582.8984],\n",
      "        [ 9406.4814],\n",
      "        [ 9368.5117],\n",
      "        [ 4132.2837],\n",
      "        [ 1997.4635],\n",
      "        [17399.7852],\n",
      "        [ 8387.0928],\n",
      "        [21640.6699],\n",
      "        [ 9660.7158],\n",
      "        [31755.5312],\n",
      "        [ 6803.8530],\n",
      "        [11047.5742],\n",
      "        [21724.3223],\n",
      "        [53543.0703],\n",
      "        [ 9041.1240],\n",
      "        [ 2475.9187],\n",
      "        [46336.9688],\n",
      "        [11661.5527],\n",
      "        [15894.8398],\n",
      "        [ 7479.4038]])\n"
     ]
    }
   ],
   "source": [
    "for xb, yb in train_loader:\n",
    "    print(\"inputs:\", xb)\n",
    "    print(\"targets:\", yb)\n",
    "    break"
   ]
  },
  {
   "cell_type": "markdown",
   "metadata": {},
   "source": [
    "Let's save our work by committing to Jovian."
   ]
  },
  {
   "cell_type": "code",
   "execution_count": 436,
   "metadata": {},
   "outputs": [
    {
     "data": {
      "application/javascript": [
       "window.require && require([\"base/js/namespace\"],function(Jupyter){Jupyter.notebook.save_checkpoint()})"
      ],
      "text/plain": [
       "<IPython.core.display.Javascript object>"
      ]
     },
     "metadata": {},
     "output_type": "display_data"
    },
    {
     "name": "stdout",
     "output_type": "stream",
     "text": [
      "[jovian] Attempting to save notebook..\n",
      "[jovian] Updating notebook \"njanvier/02-insurance-linear-regression\" on https://jovian.ml/\n",
      "[jovian] Uploading notebook..\n",
      "[jovian] Attaching records (metrics, hyperparameters, dataset etc.)\n",
      "[jovian] Committed successfully! https://jovian.ml/njanvier/02-insurance-linear-regression\n"
     ]
    },
    {
     "data": {
      "text/plain": [
       "'https://jovian.ml/njanvier/02-insurance-linear-regression'"
      ]
     },
     "execution_count": 436,
     "metadata": {},
     "output_type": "execute_result"
    }
   ],
   "source": [
    "jovian.commit(project=project_name, environment=None)"
   ]
  },
  {
   "cell_type": "markdown",
   "metadata": {},
   "source": [
    "## Step 3: Create a Linear Regression Model\n",
    "\n",
    "Our model itself is a fairly straightforward linear regression (we'll build more complex models in the next assignment). \n"
   ]
  },
  {
   "cell_type": "code",
   "execution_count": 437,
   "metadata": {},
   "outputs": [],
   "source": [
    "input_size = len(input_cols)\n",
    "output_size = len(output_cols)"
   ]
  },
  {
   "cell_type": "code",
   "execution_count": 438,
   "metadata": {},
   "outputs": [
    {
     "data": {
      "text/plain": [
       "(6, 1)"
      ]
     },
     "execution_count": 438,
     "metadata": {},
     "output_type": "execute_result"
    }
   ],
   "source": [
    "input_size,output_size"
   ]
  },
  {
   "cell_type": "markdown",
   "metadata": {},
   "source": [
    "**Q: Complete the class definition below by filling out the constructor (`__init__`), `forward`, `training_step` and `validation_step` methods.**\n",
    "\n",
    "Hint: Think carefully about picking a good loss fuction (it's not cross entropy). Maybe try 2-3 of them and see which one works best. See https://pytorch.org/docs/stable/nn.functional.html#loss-functions"
   ]
  },
  {
   "cell_type": "code",
   "execution_count": 439,
   "metadata": {},
   "outputs": [],
   "source": [
    "class InsuranceModel(nn.Module):\n",
    "    def __init__(self):\n",
    "        super().__init__()\n",
    "        self.linear = nn.Linear(input_size,output_size)                  # fill this (hint: use input_size & output_size defined above)\n",
    "        \n",
    "    def forward(self, xb):\n",
    "        out =   self.linear(xb)                       # fill this\n",
    "        return out\n",
    "    \n",
    "    def training_step(self, batch):\n",
    "        inputs, targets = batch \n",
    "        # Generate predictions\n",
    "        out = self(inputs)          \n",
    "        # Calcuate loss\n",
    "        loss = F.l1_loss(out,targets)                        # fill this\n",
    "        return loss\n",
    "    \n",
    "    def validation_step(self, batch):\n",
    "        inputs, targets = batch\n",
    "        # Generate predictions\n",
    "        out = self(inputs)\n",
    "        # Calculate loss\n",
    "        loss = F.l1_loss(out,targets)                           # fill this    \n",
    "        return {'val_loss': loss.detach()}\n",
    "        \n",
    "    def validation_epoch_end(self, outputs):\n",
    "        batch_losses = [x['val_loss'] for x in outputs]\n",
    "        epoch_loss = torch.stack(batch_losses).mean()   # Combine losses\n",
    "        return {'val_loss': epoch_loss.item()}\n",
    "    \n",
    "    def epoch_end(self, epoch, result, num_epochs):\n",
    "        # Print result every 20th epoch\n",
    "        if (epoch+1) % 20 == 0 or epoch == num_epochs-1:\n",
    "            print(\"Epoch [{}], val_loss: {:.4f}\".format(epoch+1, result['val_loss']))"
   ]
  },
  {
   "cell_type": "markdown",
   "metadata": {},
   "source": [
    "Let us create a model using the `InsuranceModel` class. You may need to come back later and re-run the next cell to reinitialize the model, in case the loss becomes `nan` or `infinity`."
   ]
  },
  {
   "cell_type": "code",
   "execution_count": 440,
   "metadata": {},
   "outputs": [],
   "source": [
    "model = InsuranceModel()"
   ]
  },
  {
   "cell_type": "markdown",
   "metadata": {},
   "source": [
    "Let's check out the weights and biases of the model using `model.parameters`."
   ]
  },
  {
   "cell_type": "code",
   "execution_count": 441,
   "metadata": {},
   "outputs": [
    {
     "data": {
      "text/plain": [
       "[Parameter containing:\n",
       " tensor([[ 0.3860,  0.0330, -0.0719,  0.0944,  0.1562,  0.4049]],\n",
       "        requires_grad=True),\n",
       " Parameter containing:\n",
       " tensor([0.0942], requires_grad=True)]"
      ]
     },
     "execution_count": 441,
     "metadata": {},
     "output_type": "execute_result"
    }
   ],
   "source": [
    "list(model.parameters())"
   ]
  },
  {
   "cell_type": "markdown",
   "metadata": {},
   "source": [
    "One final commit before we train the model."
   ]
  },
  {
   "cell_type": "code",
   "execution_count": 442,
   "metadata": {},
   "outputs": [
    {
     "data": {
      "application/javascript": [
       "window.require && require([\"base/js/namespace\"],function(Jupyter){Jupyter.notebook.save_checkpoint()})"
      ],
      "text/plain": [
       "<IPython.core.display.Javascript object>"
      ]
     },
     "metadata": {},
     "output_type": "display_data"
    },
    {
     "name": "stdout",
     "output_type": "stream",
     "text": [
      "[jovian] Attempting to save notebook..\n",
      "[jovian] Updating notebook \"njanvier/02-insurance-linear-regression\" on https://jovian.ml/\n",
      "[jovian] Uploading notebook..\n",
      "[jovian] Attaching records (metrics, hyperparameters, dataset etc.)\n",
      "[jovian] Committed successfully! https://jovian.ml/njanvier/02-insurance-linear-regression\n"
     ]
    },
    {
     "data": {
      "text/plain": [
       "'https://jovian.ml/njanvier/02-insurance-linear-regression'"
      ]
     },
     "execution_count": 442,
     "metadata": {},
     "output_type": "execute_result"
    }
   ],
   "source": [
    "jovian.commit(project=project_name, environment=None)"
   ]
  },
  {
   "cell_type": "markdown",
   "metadata": {},
   "source": [
    "## Step 4: Train the model to fit the data\n",
    "\n",
    "To train our model, we'll use the same `fit` function explained in the lecture. That's the benefit of defining a generic training loop - you can use it for any problem."
   ]
  },
  {
   "cell_type": "code",
   "execution_count": 443,
   "metadata": {},
   "outputs": [],
   "source": [
    "def evaluate(model, val_loader):\n",
    "    outputs = [model.validation_step(batch) for batch in val_loader]\n",
    "    return model.validation_epoch_end(outputs)\n",
    "\n",
    "def fit(epochs, lr, model, train_loader, val_loader, opt_func=torch.optim.SGD):\n",
    "    history = []\n",
    "    optimizer = opt_func(model.parameters(), lr)\n",
    "    for epoch in range(epochs):\n",
    "        # Training Phase \n",
    "        for batch in train_loader:\n",
    "            loss = model.training_step(batch)\n",
    "            loss.backward()\n",
    "            optimizer.step()\n",
    "            optimizer.zero_grad()\n",
    "        # Validation phase\n",
    "        result = evaluate(model, val_loader)\n",
    "        model.epoch_end(epoch, result, epochs)\n",
    "        history.append(result)\n",
    "    return history"
   ]
  },
  {
   "cell_type": "markdown",
   "metadata": {},
   "source": [
    "**Q: Use the `evaluate` function to calculate the loss on the validation set before training.**"
   ]
  },
  {
   "cell_type": "code",
   "execution_count": 444,
   "metadata": {},
   "outputs": [
    {
     "name": "stdout",
     "output_type": "stream",
     "text": [
      "{'val_loss': 13801.853515625}\n"
     ]
    }
   ],
   "source": [
    "result = evaluate(model, val_loader) # Use the the evaluate function\n",
    "print(result)"
   ]
  },
  {
   "cell_type": "markdown",
   "metadata": {},
   "source": [
    "\n",
    "We are now ready to train the model. You may need to run the training loop many times, for different number of epochs and with different learning rates, to get a good result. Also, if your loss becomes too large (or `nan`), you may have to re-initialize the model by running the cell `model = InsuranceModel()`. Experiment with this for a while, and try to get to as low a loss as possible."
   ]
  },
  {
   "cell_type": "markdown",
   "metadata": {},
   "source": [
    "**Q: Train the model 4-5 times with different learning rates & for different number of epochs.**\n",
    "\n",
    "Hint: Vary learning rates by orders of 10 (e.g. `1e-2`, `1e-3`, `1e-4`, `1e-5`, `1e-6`) to figure out what works."
   ]
  },
  {
   "cell_type": "code",
   "execution_count": 445,
   "metadata": {},
   "outputs": [
    {
     "name": "stdout",
     "output_type": "stream",
     "text": [
      "Epoch [5], val_loss: 12829.1094\n"
     ]
    }
   ],
   "source": [
    "epochs = 5\n",
    "lr = 1e-2\n",
    "history1 = fit(epochs, lr, model, train_loader, val_loader)"
   ]
  },
  {
   "cell_type": "code",
   "execution_count": 446,
   "metadata": {},
   "outputs": [
    {
     "name": "stdout",
     "output_type": "stream",
     "text": [
      "Epoch [10], val_loss: 12634.5586\n"
     ]
    }
   ],
   "source": [
    "epochs = 10\n",
    "lr = 1e-3\n",
    "history2 = fit(epochs, lr, model, train_loader, val_loader)"
   ]
  },
  {
   "cell_type": "code",
   "execution_count": 447,
   "metadata": {},
   "outputs": [
    {
     "name": "stdout",
     "output_type": "stream",
     "text": [
      "Epoch [15], val_loss: 12605.3760\n"
     ]
    }
   ],
   "source": [
    "epochs = 15\n",
    "lr = 1e-4\n",
    "history3 = fit(epochs, lr, model, train_loader, val_loader)"
   ]
  },
  {
   "cell_type": "code",
   "execution_count": 360,
   "metadata": {},
   "outputs": [
    {
     "name": "stdout",
     "output_type": "stream",
     "text": [
      "Epoch [20], val_loss: 13016.0957\n"
     ]
    }
   ],
   "source": [
    "epochs = 20\n",
    "lr = 1e-5\n",
    "history4 = fit(epochs, lr, model, train_loader, val_loader)"
   ]
  },
  {
   "cell_type": "code",
   "execution_count": 448,
   "metadata": {},
   "outputs": [
    {
     "name": "stdout",
     "output_type": "stream",
     "text": [
      "Epoch [20], val_loss: 12605.3379\n",
      "Epoch [30], val_loss: 12605.3184\n"
     ]
    }
   ],
   "source": [
    "epochs = 30\n",
    "lr = 1e-7\n",
    "history5 = fit(epochs, lr, model, train_loader, val_loader)"
   ]
  },
  {
   "cell_type": "markdown",
   "metadata": {},
   "source": [
    "**Q: What is the final validation loss of your model?**"
   ]
  },
  {
   "cell_type": "code",
   "execution_count": 449,
   "metadata": {},
   "outputs": [],
   "source": [
    "val_loss = evaluate(model, val_loader)"
   ]
  },
  {
   "cell_type": "code",
   "execution_count": 450,
   "metadata": {},
   "outputs": [
    {
     "data": {
      "text/plain": [
       "{'val_loss': 12605.318359375}"
      ]
     },
     "execution_count": 450,
     "metadata": {},
     "output_type": "execute_result"
    }
   ],
   "source": [
    "val_loss"
   ]
  },
  {
   "cell_type": "markdown",
   "metadata": {},
   "source": [
    "Let's log the final validation loss to Jovian and commit the notebook"
   ]
  },
  {
   "cell_type": "code",
   "execution_count": 451,
   "metadata": {},
   "outputs": [
    {
     "name": "stdout",
     "output_type": "stream",
     "text": [
      "[jovian] Metrics logged.\r\n"
     ]
    }
   ],
   "source": [
    "jovian.log_metrics(val_loss=val_loss)"
   ]
  },
  {
   "cell_type": "code",
   "execution_count": 452,
   "metadata": {},
   "outputs": [
    {
     "data": {
      "application/javascript": [
       "window.require && require([\"base/js/namespace\"],function(Jupyter){Jupyter.notebook.save_checkpoint()})"
      ],
      "text/plain": [
       "<IPython.core.display.Javascript object>"
      ]
     },
     "metadata": {},
     "output_type": "display_data"
    },
    {
     "name": "stdout",
     "output_type": "stream",
     "text": [
      "[jovian] Attempting to save notebook..\n",
      "[jovian] Updating notebook \"njanvier/02-insurance-linear-regression\" on https://jovian.ml/\n",
      "[jovian] Uploading notebook..\n",
      "[jovian] Attaching records (metrics, hyperparameters, dataset etc.)\n",
      "[jovian] Committed successfully! https://jovian.ml/njanvier/02-insurance-linear-regression\n"
     ]
    },
    {
     "data": {
      "text/plain": [
       "'https://jovian.ml/njanvier/02-insurance-linear-regression'"
      ]
     },
     "execution_count": 452,
     "metadata": {},
     "output_type": "execute_result"
    }
   ],
   "source": [
    "jovian.commit(project=project_name, environment=None)"
   ]
  },
  {
   "cell_type": "markdown",
   "metadata": {},
   "source": [
    "Now scroll back up, re-initialize the model, and try different set of values for batch size, number of epochs, learning rate etc. Commit each experiment and use the \"Compare\" and \"View Diff\" options on Jovian to compare the different results."
   ]
  },
  {
   "cell_type": "markdown",
   "metadata": {},
   "source": [
    "## Step 5: Make predictions using the trained model\n",
    "\n",
    "**Q: Complete the following function definition to make predictions on a single input**"
   ]
  },
  {
   "cell_type": "code",
   "execution_count": 453,
   "metadata": {},
   "outputs": [],
   "source": [
    "def predict_single(input, target, model):\n",
    "    inputs = input.unsqueeze(0)\n",
    "    predictions = model(inputs)              # fill this\n",
    "    prediction = predictions[0].detach()\n",
    "    print(\"Input:\", input)\n",
    "    print(\"Target:\", target)\n",
    "    print(\"Prediction:\", prediction)"
   ]
  },
  {
   "cell_type": "code",
   "execution_count": 454,
   "metadata": {},
   "outputs": [
    {
     "name": "stdout",
     "output_type": "stream",
     "text": [
      "Input: tensor([54.0000,  0.0000, 45.9877,  0.0000,  1.0000,  2.0000])\n",
      "Target: tensor([70147.4688])\n",
      "Prediction: tensor([1726.5179])\n"
     ]
    }
   ],
   "source": [
    "input, target = val_ds[0]\n",
    "predict_single(input, target, model)"
   ]
  },
  {
   "cell_type": "code",
   "execution_count": 455,
   "metadata": {},
   "outputs": [
    {
     "name": "stdout",
     "output_type": "stream",
     "text": [
      "Input: tensor([38.0000,  1.0000, 27.1842,  1.0000,  0.0000,  0.0000])\n",
      "Target: tensor([6673.8394])\n",
      "Prediction: tensor([1139.0072])\n"
     ]
    }
   ],
   "source": [
    "input, target = val_ds[10]\n",
    "predict_single(input, target, model)"
   ]
  },
  {
   "cell_type": "code",
   "execution_count": 456,
   "metadata": {},
   "outputs": [
    {
     "name": "stdout",
     "output_type": "stream",
     "text": [
      "Input: tensor([44.0000,  0.0000, 19.6280,  1.0000,  1.0000,  0.0000])\n",
      "Target: tensor([21554.2910])\n",
      "Prediction: tensor([1146.3723])\n"
     ]
    }
   ],
   "source": [
    "input, target = val_ds[23]\n",
    "predict_single(input, target, model)"
   ]
  },
  {
   "cell_type": "markdown",
   "metadata": {},
   "source": [
    "Are you happy with your model's predictions? Try to improve them further."
   ]
  },
  {
   "cell_type": "markdown",
   "metadata": {},
   "source": [
    "## (Optional) Step 6: Try another dataset & blog about it\n",
    "\n",
    "While this last step is optional for the submission of your assignment, we highly recommend that you do it. Try to clean up & replicate this notebook (or [this one](https://jovian.ml/aakashns/housing-linear-minimal), or [this one](https://jovian.ml/aakashns/mnist-logistic-minimal) ) for a different linear regression or logistic regression problem. This will help solidify your understanding, and give you a chance to differentiate the generic patters in machine learning from problem-specific details.\n",
    "\n",
    "Here are some sources to find good datasets:\n",
    "\n",
    "- https://lionbridge.ai/datasets/10-open-datasets-for-linear-regression/\n",
    "- https://www.kaggle.com/rtatman/datasets-for-regression-analysis\n",
    "- https://archive.ics.uci.edu/ml/datasets.php?format=&task=reg&att=&area=&numAtt=&numIns=&type=&sort=nameUp&view=table\n",
    "- https://people.sc.fsu.edu/~jburkardt/datasets/regression/regression.html\n",
    "- https://archive.ics.uci.edu/ml/datasets/wine+quality\n",
    "- https://pytorch.org/docs/stable/torchvision/datasets.html\n",
    "\n",
    "We also recommend that you write a blog about your approach to the problem. Here is a suggested structure for your post (feel free to experiment with it):\n",
    "\n",
    "- Interesting title & subtitle\n",
    "- Overview of what the blog covers (which dataset, linear regression or logistic regression, intro to PyTorch)\n",
    "- Downloading & exploring the data\n",
    "- Preparing the data for training\n",
    "- Creating a model using PyTorch\n",
    "- Training the model to fit the data\n",
    "- Your thoughts on how to experiment with different hyperparmeters to reduce loss\n",
    "- Making predictions using the model\n",
    "\n",
    "As with the previous assignment, you can [embed Juptyer notebook cells & outputs from Jovian](https://medium.com/jovianml/share-and-embed-jupyter-notebooks-online-with-jovian-ml-df709a03064e) into your blog. \n",
    "\n",
    "Don't forget to share your work on the forum: https://jovian.ml/forum/t/share-your-work-here-assignment-2/4931"
   ]
  },
  {
   "cell_type": "code",
   "execution_count": null,
   "metadata": {},
   "outputs": [
    {
     "data": {
      "application/javascript": [
       "window.require && require([\"base/js/namespace\"],function(Jupyter){Jupyter.notebook.save_checkpoint()})"
      ],
      "text/plain": [
       "<IPython.core.display.Javascript object>"
      ]
     },
     "metadata": {},
     "output_type": "display_data"
    },
    {
     "name": "stdout",
     "output_type": "stream",
     "text": [
      "[jovian] Attempting to save notebook..\n",
      "[jovian] Updating notebook \"njanvier/02-insurance-linear-regression\" on https://jovian.ml/\n",
      "[jovian] Uploading notebook..\n",
      "[jovian] Attaching records (metrics, hyperparameters, dataset etc.)\n",
      "[jovian] Committed successfully! https://jovian.ml/njanvier/02-insurance-linear-regression\n"
     ]
    },
    {
     "data": {
      "application/javascript": [
       "window.require && require([\"base/js/namespace\"],function(Jupyter){Jupyter.notebook.save_checkpoint()})"
      ],
      "text/plain": [
       "<IPython.core.display.Javascript object>"
      ]
     },
     "metadata": {},
     "output_type": "display_data"
    }
   ],
   "source": [
    "jovian.commit(project=project_name, environment=None)\n",
    "jovian.commit(project=project_name, environment=None) # try again, kaggle fails sometimes"
   ]
  },
  {
   "cell_type": "code",
   "execution_count": null,
   "metadata": {},
   "outputs": [],
   "source": []
  }
 ],
 "metadata": {
  "kernelspec": {
   "display_name": "Python 3",
   "language": "python",
   "name": "python3"
  },
  "language_info": {
   "codemirror_mode": {
    "name": "ipython",
    "version": 3
   },
   "file_extension": ".py",
   "mimetype": "text/x-python",
   "name": "python",
   "nbconvert_exporter": "python",
   "pygments_lexer": "ipython3",
   "version": "3.7.7"
  }
 },
 "nbformat": 4,
 "nbformat_minor": 4
}
